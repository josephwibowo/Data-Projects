{
 "cells": [
  {
   "cell_type": "markdown",
   "metadata": {},
   "source": [
    "## Intro to Statistics in Python pt. 1\n",
    "Hello, this is my notebook I used to teach myself statistics whilst also learning Python. \n",
    "\n",
    "Topics covered in this notebook:\n",
    "* Identifying/Summarizing Variables\n",
    "* Measures of Central Tendency\n",
    "* Dispersion and Spread of Data\n",
    "* Z-scores\n",
    "* Correlation and Pearson's R\n",
    "* Regression"
   ]
  },
  {
   "cell_type": "code",
   "execution_count": 48,
   "metadata": {
    "collapsed": false
   },
   "outputs": [],
   "source": [
    "#Libraries used\n",
    "import pandas as pd\n",
    "from IPython.display import display\n",
    "import matplotlib.pyplot as plt\n",
    "%matplotlib inline\n",
    "import csv\n",
    "import numpy as np\n",
    "import quandl"
   ]
  },
  {
   "cell_type": "markdown",
   "metadata": {},
   "source": [
    "### The Data\n",
    "The data used in this notebook come from the US Census: [US Census PUMS Data 2014](http://factfinder.census.gov/faces/tableservices/jsf/pages/productview.xhtml?pid=ACS_pums_csv_2014&prodType=document)\n",
    "\n",
    "All info on the variables are found here: [Variable Documentation](http://www2.census.gov/programs-surveys/acs/tech_docs/pums/data_dict/PUMSDataDict14.pdf)"
   ]
  },
  {
   "cell_type": "code",
   "execution_count": 49,
   "metadata": {
    "collapsed": false
   },
   "outputs": [
    {
     "name": "stdout",
     "output_type": "stream",
     "text": [
      "  RT  SERIALNO  SPORDER  PUMA  ST   ADJINC  PWGTP  AGEP  CIT CITWP   ...     \\\n",
      "0  P        56        1   105  11  1008425     91    19    1         ...      \n",
      "1  P       957        1   105  11  1008425     97    55    1         ...      \n",
      "2  P      1138        1   104  11  1008425     73    88    1         ...      \n",
      "3  P      1138        2   104  11  1008425     61    93    1         ...      \n",
      "4  P      1325        1   104  11  1008425    144    49    1         ...      \n",
      "\n",
      "   pwgtp71  pwgtp72  pwgtp73  pwgtp74  pwgtp75  pwgtp76  pwgtp77  pwgtp78  \\\n",
      "0        1      184      188        1       86      194        1        1   \n",
      "1       96        1       90       81      109      216       86      214   \n",
      "2       23       71       72       70       98       98       23       72   \n",
      "3       23       66       58       67       96       72       17       51   \n",
      "4      123      248       39      162      135      142      245       45   \n",
      "\n",
      "   pwgtp79  pwgtp80  \n",
      "0      100       86  \n",
      "1      110        1  \n",
      "2       25       76  \n",
      "3       18       63  \n",
      "4      154      245  \n",
      "\n",
      "[5 rows x 284 columns]\n",
      "(6517, 284)\n",
      "RT\n",
      "SERIALNO\n",
      "SPORDER\n",
      "PUMA\n",
      "ST\n",
      "ADJINC\n",
      "PWGTP\n",
      "AGEP\n",
      "CIT\n",
      "CITWP\n",
      "COW\n",
      "DDRS\n",
      "DEAR\n",
      "DEYE\n",
      "DOUT\n",
      "DPHY\n",
      "DRAT\n",
      "DRATX\n",
      "DREM\n",
      "ENG\n",
      "FER\n",
      "GCL\n",
      "GCM\n",
      "GCR\n",
      "HINS1\n",
      "HINS2\n",
      "HINS3\n",
      "HINS4\n",
      "HINS5\n",
      "HINS6\n",
      "HINS7\n",
      "INTP\n",
      "JWMNP\n",
      "JWRIP\n",
      "JWTR\n",
      "LANX\n",
      "MAR\n",
      "MARHD\n",
      "MARHM\n",
      "MARHT\n",
      "MARHW\n",
      "MARHYP\n",
      "MIG\n",
      "MIL\n",
      "MLPA\n",
      "MLPB\n",
      "MLPCD\n",
      "MLPE\n",
      "MLPFG\n",
      "MLPH\n",
      "MLPI\n",
      "MLPJ\n",
      "MLPK\n",
      "NWAB\n",
      "NWAV\n",
      "NWLA\n",
      "NWLK\n",
      "NWRE\n",
      "OIP\n",
      "PAP\n",
      "RELP\n",
      "RETP\n",
      "SCH\n",
      "SCHG\n",
      "SCHL\n",
      "SEMP\n",
      "SEX\n",
      "SSIP\n",
      "SSP\n",
      "WAGP\n",
      "WKHP\n",
      "WKL\n",
      "WKW\n",
      "WRK\n",
      "YOEP\n",
      "ANC\n",
      "ANC1P\n",
      "ANC2P\n",
      "DECADE\n",
      "DIS\n",
      "DRIVESP\n",
      "ESP\n",
      "ESR\n",
      "FHICOVP\n",
      "FOD1P\n",
      "FOD2P\n",
      "HICOV\n",
      "HISP\n",
      "INDP\n",
      "JWAP\n",
      "JWDP\n",
      "LANP\n",
      "MIGPUMA\n",
      "MIGSP\n",
      "MSP\n",
      "NAICSP\n",
      "NATIVITY\n",
      "NOP\n",
      "OC\n",
      "OCCP\n",
      "PAOC\n",
      "PERNP\n",
      "PINCP\n",
      "POBP\n",
      "POVPIP\n",
      "POWPUMA\n",
      "POWSP\n",
      "PRIVCOV\n",
      "PUBCOV\n",
      "QTRBIR\n",
      "RAC1P\n",
      "RAC2P\n",
      "RAC3P\n",
      "RACAIAN\n",
      "RACASN\n",
      "RACBLK\n",
      "RACNH\n",
      "RACNUM\n",
      "RACPI\n",
      "RACSOR\n",
      "RACWHT\n",
      "RC\n",
      "SCIENGP\n",
      "SCIENGRLP\n",
      "SFN\n",
      "SFR\n",
      "SOCP\n",
      "VPS\n",
      "WAOB\n",
      "FAGEP\n",
      "FANCP\n",
      "FCITP\n",
      "FCITWP\n",
      "FCOWP\n",
      "FDDRSP\n",
      "FDEARP\n",
      "FDEYEP\n",
      "FDISP\n",
      "FDOUTP\n",
      "FDPHYP\n",
      "FDRATP\n",
      "FDRATXP\n",
      "FDREMP\n",
      "FENGP\n",
      "FESRP\n",
      "FFERP\n",
      "FFODP\n",
      "FGCLP\n",
      "FGCMP\n",
      "FGCRP\n",
      "FHINS1P\n",
      "FHINS2P\n",
      "FHINS3C\n",
      "FHINS3P\n",
      "FHINS4C\n",
      "FHINS4P\n",
      "FHINS5C\n",
      "FHINS5P\n",
      "FHINS6P\n",
      "FHINS7P\n",
      "FHISP\n",
      "FINDP\n",
      "FINTP\n",
      "FJWDP\n",
      "FJWMNP\n",
      "FJWRIP\n",
      "FJWTRP\n",
      "FLANP\n",
      "FLANXP\n",
      "FMARHDP\n",
      "FMARHMP\n",
      "FMARHTP\n",
      "FMARHWP\n",
      "FMARHYP\n",
      "FMARP\n",
      "FMIGP\n",
      "FMIGSP\n",
      "FMILPP\n",
      "FMILSP\n",
      "FOCCP\n",
      "FOIP\n",
      "FPAP\n",
      "FPERNP\n",
      "FPINCP\n",
      "FPOBP\n",
      "FPOWSP\n",
      "FPRIVCOVP\n",
      "FPUBCOVP\n",
      "FRACP\n",
      "FRELP\n",
      "FRETP\n",
      "FSCHGP\n",
      "FSCHLP\n",
      "FSCHP\n",
      "FSEMP\n",
      "FSEXP\n",
      "FSSIP\n",
      "FSSP\n",
      "FWAGP\n",
      "FWKHP\n",
      "FWKLP\n",
      "FWKWP\n",
      "FWRKP\n",
      "FYOEP\n",
      "pwgtp1\n",
      "pwgtp2\n",
      "pwgtp3\n",
      "pwgtp4\n",
      "pwgtp5\n",
      "pwgtp6\n",
      "pwgtp7\n",
      "pwgtp8\n",
      "pwgtp9\n",
      "pwgtp10\n",
      "pwgtp11\n",
      "pwgtp12\n",
      "pwgtp13\n",
      "pwgtp14\n",
      "pwgtp15\n",
      "pwgtp16\n",
      "pwgtp17\n",
      "pwgtp18\n",
      "pwgtp19\n",
      "pwgtp20\n",
      "pwgtp21\n",
      "pwgtp22\n",
      "pwgtp23\n",
      "pwgtp24\n",
      "pwgtp25\n",
      "pwgtp26\n",
      "pwgtp27\n",
      "pwgtp28\n",
      "pwgtp29\n",
      "pwgtp30\n",
      "pwgtp31\n",
      "pwgtp32\n",
      "pwgtp33\n",
      "pwgtp34\n",
      "pwgtp35\n",
      "pwgtp36\n",
      "pwgtp37\n",
      "pwgtp38\n",
      "pwgtp39\n",
      "pwgtp40\n",
      "pwgtp41\n",
      "pwgtp42\n",
      "pwgtp43\n",
      "pwgtp44\n",
      "pwgtp45\n",
      "pwgtp46\n",
      "pwgtp47\n",
      "pwgtp48\n",
      "pwgtp49\n",
      "pwgtp50\n",
      "pwgtp51\n",
      "pwgtp52\n",
      "pwgtp53\n",
      "pwgtp54\n",
      "pwgtp55\n",
      "pwgtp56\n",
      "pwgtp57\n",
      "pwgtp58\n",
      "pwgtp59\n",
      "pwgtp60\n",
      "pwgtp61\n",
      "pwgtp62\n",
      "pwgtp63\n",
      "pwgtp64\n",
      "pwgtp65\n",
      "pwgtp66\n",
      "pwgtp67\n",
      "pwgtp68\n",
      "pwgtp69\n",
      "pwgtp70\n",
      "pwgtp71\n",
      "pwgtp72\n",
      "pwgtp73\n",
      "pwgtp74\n",
      "pwgtp75\n",
      "pwgtp76\n",
      "pwgtp77\n",
      "pwgtp78\n",
      "pwgtp79\n",
      "pwgtp80\n"
     ]
    }
   ],
   "source": [
    "#Table metadata + column names\n",
    "data = pd.read_csv('dc_data/dc.csv')\n",
    "print data.head()\n",
    "print data.shape\n",
    "for i in data.columns:\n",
    "    print i"
   ]
  },
  {
   "cell_type": "markdown",
   "metadata": {},
   "source": [
    "### Statistics - Identifying and Summarizing Variables\n",
    "It is important to identify the variables in a dataset so the proper graphs/tests are used to summarize/compare the variables.\n",
    "\n",
    "Categorical variable examples\n",
    "* ST = State (Nominal)\n",
    "* ENG = Ability to Speak English 4-pt scale (ordinal)\n",
    "\n",
    "Quantitative variable examples\n",
    "* Age (interval)\n",
    "* PWGTP = Person's Weight (Ratio)\n",
    "\n",
    "**Summarizing Variables**\n",
    "\n",
    "To see a quick distribution of a variable, use a **frequency table**. Below, we use gender as an example.\n",
    "\n",
    "For categorical data, use a **bar chart** to summarize a variable. Below, we use marriage (nominal) as an example.\n",
    "\n",
    "For quantitative data, use a **histogram** to summarize a variable. Below, we use annual income as an example."
   ]
  },
  {
   "cell_type": "code",
   "execution_count": 55,
   "metadata": {
    "collapsed": false
   },
   "outputs": [
    {
     "name": "stdout",
     "output_type": "stream",
     "text": [
      "male      3455\n",
      "female    3062\n",
      "Name: SEX, dtype: int64\n",
      "male      0.530152\n",
      "female    0.469848\n",
      "Name: SEX, dtype: float64\n",
      "\n",
      "The max annual wages is 0582000. \n",
      "\n",
      "Married                   0.266841\n",
      "Widowed                   0.043271\n",
      "Divorced                  0.085469\n",
      "Separated                 0.017953\n",
      "Never Married/Under 15    0.586466\n",
      "Name: MAR, dtype: float64\n"
     ]
    },
    {
     "data": {
      "text/plain": [
       "count      5719.000000\n",
       "mean      45104.004896\n",
       "std       70420.100169\n",
       "min           0.000000\n",
       "25%           0.000000\n",
       "50%       20000.000000\n",
       "75%       67000.000000\n",
       "max      582000.000000\n",
       "Name: WAGPconv, dtype: float64"
      ]
     },
     "execution_count": 55,
     "metadata": {},
     "output_type": "execute_result"
    },
    {
     "data": {
      "image/png": "[encoded data removed]",
      "text/plain": [
       "<matplotlib.figure.Figure at 0x106252e8>"
      ]
     },
     "metadata": {},
     "output_type": "display_data"
    },
    {
     "data": {
      "image/png": "[encoded data removed]",
      "text/plain": [
       "<matplotlib.figure.Figure at 0xceb0ba8>"
      ]
     },
     "metadata": {},
     "output_type": "display_data"
    }
   ],
   "source": [
    "#Frequency Table Gender\n",
    "gen = data.SEX.value_counts(dropna=True)\n",
    "gen.index=['male','female']\n",
    "print gen\n",
    "genP = data.SEX.value_counts(dropna=True, normalize = True)\n",
    "genP.index=['male','female']\n",
    "print genP\n",
    "print '\\nThe max annual wages is {x}. \\n'.format(x=data.WAGP.max())\n",
    "\n",
    "#Freq Table Marriage\n",
    "fig1 = plt.figure()\n",
    "ax = fig1.add_subplot(111)\n",
    "marriage = data.MAR.value_counts(dropna=True, normalize = True)\n",
    "marriageTbl = marriage.sort_index()\n",
    "marriageTbl.index=['Married','Widowed','Divorced','Separated','Never Married/Under 15']\n",
    "print marriageTbl\n",
    "\n",
    "#Marriage Histogram\n",
    "plt.bar(marriage.keys(),marriage, width = 1)\n",
    "ax.set_title('DC Marriage %s')\n",
    "ax.set_xticks([1.5,2.5,3.5,4.5,5.5])\n",
    "xticks = ['Married','Widowed','Divorced','Separated','Single/Under 15']\n",
    "xtnames = ax.set_xticklabels(xticks)\n",
    "plt.setp(xtnames, rotation=45, fontsize=12)\n",
    "\n",
    "#Histogram - WAGP\n",
    "def convIncome(x):\n",
    "    if x == '0000000':\n",
    "        return 0\n",
    "    elif x == ' ':\n",
    "        return np.NaN\n",
    "    else: \n",
    "        return int(x.lstrip('0'))\n",
    "data['WAGPconv'] = data['WAGP'].apply(convIncome)\n",
    "bins = [0,25000,50000,75000,100000,125000,150000,175000,200000,225000,250000,300000,400000,600000]\n",
    "plt.figure()\n",
    "plt.hist(data.WAGPconv.dropna(),bins=bins) #skewed right\n",
    "plt.title(\"DC Wages in P12M histogram\")\n",
    "data.WAGPconv.describe()"
   ]
  },
  {
   "cell_type": "markdown",
   "metadata": {
    "collapsed": true
   },
   "source": [
    "### Measures of Central Tendency\n",
    "After summarizing the variables through tables and graphs, it is a good idea to look at the central tendency of the distributions of the variables through measures like **mean**, **median**, and **mode**. These measurements can tell us more about the data and are used to compute more complex statistical tests.\n",
    "\n",
    "**Mode**\n",
    "\n",
    "Defined as the value that occurs most frequently. Only really used for nominal variables since nominal vars cannot be ordered for a median nor can math calcs can be used on them. One can see easily what the mode is by looking at a bar chart. \n",
    "\n",
    "**Median**\n",
    "\n",
    "Defined as the most middle value after values are arranged from least to greatest. In an even amount of data values, the average of the two most middle values is the median. It is appropriate to use median to describe quantitative variables. Median is more useful to describe central tendency in a distribution if there are outliers in the data.\n",
    "\n",
    "**Mean**\n",
    "\n",
    "Defined as the sum of all data divided by the sample size. It is appropriate to use mean to describe quantitative variables. Mean and median should be similar in a bell shaped distribution (normal dist) as one can see in the hrs worked example below, however, as stated before, outliers will greatly affect the mean and median difference as seen in the income example."
   ]
  },
  {
   "cell_type": "code",
   "execution_count": 106,
   "metadata": {
    "collapsed": false
   },
   "outputs": [
    {
     "name": "stdout",
     "output_type": "stream",
     "text": [
      "The mode for grade level is 15.0. Reponse of 15 means College Undegraduate Years (freshman to senior).\n",
      "The median hrs worked is 40.0. The mean is 39.55\n",
      "The median annual wages is 20000.0. The mean is 45104.004896\n"
     ]
    },
    {
     "data": {
      "image/png": "[encoded data removed]",
      "text/plain": [
       "<matplotlib.figure.Figure at 0xa271198>"
      ]
     },
     "metadata": {},
     "output_type": "display_data"
    },
    {
     "data": {
      "image/png": "[encoded data removed]",
      "text/plain": [
       "<matplotlib.figure.Figure at 0xcf7c5f8>"
      ]
     },
     "metadata": {},
     "output_type": "display_data"
    }
   ],
   "source": [
    "#Mode example\n",
    "gradelvl = data.SCHG.mode()[0]\n",
    "print \"The mode for grade level is {mode}. Reponse of 15 means College Undegraduate Years (freshman to senior).\".format(mode=gradelvl)\n",
    "plt.figure()\n",
    "plt.title(\"Current Grade Level\")\n",
    "plt.xlabel('Grade codes (3=1st grade, 15=College student)')\n",
    "plt.ylabel('Count')\n",
    "plt.hist(data.SCHG.dropna(), bins=15)\n",
    "\n",
    "#Median/Mean Example\n",
    "hrswk = pd.to_numeric(data.WKHP, errors = 'coerce')\n",
    "hrswk = hrswk.dropna()\n",
    "hrmedian = hrswk.median()\n",
    "hrmean = round(hrswk.mean(),2)\n",
    "print \"The median hrs worked is {m}. The mean is {mo}\".format(m = hrmedian, mo=hrmean)\n",
    "plt.figure()\n",
    "plt.hist(hrswk)\n",
    "plt.xlabel('Hours')\n",
    "plt.ylabel('Count')\n",
    "plt.title(\"Avg hrs worked in a week\")\n",
    "\n",
    "incmedian = data.WAGPconv.median()\n",
    "incmean = data.WAGPconv.mean()\n",
    "print \"The median annual wages is {med}. The mean is {mean}\".format(med=incmedian,mean=incmean)"
   ]
  },
  {
   "cell_type": "markdown",
   "metadata": {},
   "source": [
    "### Dispersion/Spread of Data\n",
    "In addition, one needs to look at the dispersion or spread of the distribution. A dataset can have the same mean/median as another dataset yet have very different distribution shapes, so dispersion needs to be looked at to gain a better understanding on what the data is saying. Two simple measurements of dispersion are **range** and **Interquartile range**. \n",
    "\n",
    "**Range**\n",
    "\n",
    "The range of a dataset is simply the maximum value subtracted by the minimum value in the dataset. Once again, income is used to find the range in the example below. While range can be useful, it is far too simple and gets tripped up by outliers as shown in the example below. \n",
    "\n",
    "**Interquartile Range**\n",
    "Interquartile Range (IQR) is a more precise way to measure spread in a dataset. How it works is that it divides the distribution of values into quartiles. If the data is sorted from least to greatest, you can think of quartiles as \"bins\" where the first quartile (Q1) is the first 25% of values in a dataset, the 2nd quartile (Q2) includes all values after the first 25% of values up to 50% of the values, and Q3 and Q4 follow the same pattern (50%-75%, 75%- 100%).\n",
    "\n",
    "To visualize the IQR, boxplots are used which are seen below. The boxplots of hours worked and annual wages show a lot of outliers meaning these distributions seem to be very spread out. A question I had was who are these people over the age of 15 earning $0? The last 2 graphs answer the question.\n",
    "\n",
    "It seems that from the histograms of age and employment status, the majority of these people are either students (15-30 yrs old) or seniors (60+). This makes sense and explains why there are so many people who are reporting $0 annual income and are above 16 years old.\n",
    "\n",
    "#### Variance and Standard Deviation\n",
    "More measures of variability. Without context, there is not much to it except that it's a very important concept to know for future statistical methods. I won't show any examples here but numpy as functions like .std() to easily find standard deviation of a column."
   ]
  },
  {
   "cell_type": "code",
   "execution_count": 107,
   "metadata": {
    "collapsed": false
   },
   "outputs": [
    {
     "name": "stdout",
     "output_type": "stream",
     "text": [
      "The max is 99.0. The min is 1.0. The range is then 98.0.\n",
      "\n",
      "The median is 40.\n",
      "Q1 is 38.0\n",
      "Q3 is 45.0\n",
      "IQR is then 7.0\n",
      "\n",
      "Numpy method - Q1: 38.0, Q3: 45.0, IQR: 7.0 \n",
      "40.0\n",
      "\n",
      "Amount of people who make < $10000 is 2521\n"
     ]
    },
    {
     "data": {
      "text/plain": [
       "(array([  453.,    27.,   220.,     3.,     0.,  1773.]),\n",
       " array([ 1.        ,  1.83333333,  2.66666667,  3.5       ,  4.33333333,\n",
       "         5.16666667,  6.        ]),\n",
       " <a list of 6 Patch objects>)"
      ]
     },
     "execution_count": 107,
     "metadata": {},
     "output_type": "execute_result"
    },
    {
     "data": {
      "image/png": "[encoded data removed]",
      "text/plain": [
       "<matplotlib.figure.Figure at 0xcf00e80>"
      ]
     },
     "metadata": {},
     "output_type": "display_data"
    },
    {
     "data": {
      "image/png": "[encoded data removed]",
      "text/plain": [
       "<matplotlib.figure.Figure at 0xeda2fd0>"
      ]
     },
     "metadata": {},
     "output_type": "display_data"
    },
    {
     "data": {
      "image/png": "[encoded data removed]",
      "text/plain": [
       "<matplotlib.figure.Figure at 0xf05ceb8>"
      ]
     },
     "metadata": {},
     "output_type": "display_data"
    },
    {
     "data": {
      "image/png": "[encoded data removed]",
      "text/plain": [
       "<matplotlib.figure.Figure at 0xee80a58>"
      ]
     },
     "metadata": {},
     "output_type": "display_data"
    },
    {
     "data": {
      "image/png": "[encoded data removed]",
      "text/plain": [
       "<matplotlib.figure.Figure at 0xeee3e80>"
      ]
     },
     "metadata": {},
     "output_type": "display_data"
    }
   ],
   "source": [
    "#Calculating Range\n",
    "print \"The max is {max}. The min is {min}. The range is then {rng}.\".format(max=hrswk.max(),min=hrswk.min(), \\\n",
    "                                                                           rng=hrswk.max()-hrswk.min())\n",
    "#Calculating IQR \"manually\"\n",
    "Q2 = int(hrswk.median())\n",
    "print \"\\nThe median is {a}.\".format(a=Q2)\n",
    "hrsSort = hrswk.sort_values()\n",
    "Q1mid = len(hrsSort)/2\n",
    "Q1 = hrsSort[0:Q1mid].median()\n",
    "print \"Q1 is {q1}\".format(q1=Q1)\n",
    "last = len(hrsSort)\n",
    "Q3 = hrsSort[Q1mid:last].median()\n",
    "print \"Q3 is {q3}\".format(q3=Q3)\n",
    "print \"IQR is then {iqr}\".format(iqr=Q3-Q1)\n",
    "\n",
    "#Calculating IQR using np.percentile()\n",
    "q3, q1 = np.percentile(hrsSort, [75 ,25])\n",
    "iqr = q3 - q1\n",
    "print \"\\nNumpy method - Q1: {q1}, Q3: {q3}, IQR: {iqr} \".format(q1=q1, q3=q3, iqr=iqr)\n",
    "\n",
    "#boxplot of weekly hrs and annual wages\n",
    "plt.figure()\n",
    "plt.title(\"Boxplot of Weekly Hrs Worked\")\n",
    "plt.boxplot(hrswk)\n",
    "plt.figure()\n",
    "plt.title(\"Boxplot of Annual Wages\")\n",
    "plt.boxplot(data.WAGPconv.dropna())\n",
    "\n",
    "#Boxplot of those who worked > 10 hrs\n",
    "FT = hrswk[hrswk > 10]\n",
    "plt.figure()\n",
    "print FT.median()\n",
    "plt.title(\"Boxplot of Weekly Hrs Worked > 10 hrs\")\n",
    "plt.boxplot(FT.values) #boxplot() looks for 0 index, workaround\n",
    "\n",
    "#Who are those who are making <$10,000 and throwing the distribution off\n",
    "print \"\\nAmount of people who make < $10000 is {a}\".format(a=len(data[data.WAGPconv < 10000]))\n",
    "plt.figure()\n",
    "plt.title(\"Age of those who make < $10000 annually\")\n",
    "plt.xlabel('Age in years')\n",
    "plt.hist(data['AGEP'][data.WAGPconv < 10000].dropna(),bins=[10,20,30,40,50,60,70,80,90,100])\n",
    "plt.figure()\n",
    "plt.title(\"Employment Status of those who make <$10000 annually\")\n",
    "plt.xlabel(\"Employment status code (6=Not in labor, 3=unemployed)\")\n",
    "plt.hist(data['ESR'][data.WAGPconv < 10000].dropna(),bins=6)"
   ]
  },
  {
   "cell_type": "markdown",
   "metadata": {},
   "source": [
    "### Z-scores\n",
    "A Z-score is given to a specific observation in a dataset to measure how common or exceptional the observation is. This is useful. Easy way to define z-scores is \"how many standard deviations away from the mean\". For bell shaped curves, a good rule is that 68% of all observations lie within z-scores of -1 and 1 and 95% of z-scores lie between -2 and 2 z-scores. An example is shown below on the age distribution.\n",
    "\n",
    "The formula is (x - mean) / stdev.\n",
    "\n",
    "Standardization is thus converting the observations into z-scores or # of standard deviations away from the mean.\n"
   ]
  },
  {
   "cell_type": "code",
   "execution_count": 52,
   "metadata": {
    "collapsed": false
   },
   "outputs": [
    {
     "name": "stdout",
     "output_type": "stream",
     "text": [
      "% of observations within 1 std dev: 66.6410925272%\n",
      "% of observations within 2 std dev: 97.2379929415%\n"
     ]
    },
    {
     "data": {
      "image/png": "[encoded data removed]",
      "text/plain": [
       "<matplotlib.figure.Figure at 0xed1c208>"
      ]
     },
     "metadata": {},
     "output_type": "display_data"
    }
   ],
   "source": [
    "age = data.AGEP.dropna()\n",
    "plt.figure()\n",
    "plt.hist(age)\n",
    "ageZ = age.apply(lambda x: (x-age.mean())/age.std())\n",
    "z1 = data.AGEP.loc[ageZ[(ageZ >= -1) & (ageZ <=1)].index]\n",
    "z2 = data.AGEP.loc[ageZ[(ageZ >= -2) & (ageZ <=2)].index]\n",
    "print \"% of observations within 1 std dev: {a}%\".format(a=100*(float(z1.count())/len(data.AGEP)))\n",
    "print \"% of observations within 2 std dev: {a}%\".format(a=100*(float(z2.count())/len(data.AGEP)))"
   ]
  },
  {
   "cell_type": "markdown",
   "metadata": {},
   "source": [
    "### Correlation and Pearson's R\n",
    "Correlation in statistics is a technique used to determine how strongly a pair of variables are related. The metric for this can be determined using different methods, but the most common is Pearson's correlation which is what is used below. The formula can be found [here](http://davidmlane.com/hyperstat/A51911.html). Using Z-scores greatly simplifies the calculation.\n",
    "\n",
    "To see a general correlation for ordinal/nominal variables, use contingency tables. These show the proportions and counts of a variable in relation to another variable. Below is an example of a contingency table with the rows being gender and the columns being marital status.\n",
    "\n",
    "In the example below for correlation, the two variables r value = 0.45 which indicates the two variables are not correlated. "
   ]
  },
  {
   "cell_type": "code",
   "execution_count": 110,
   "metadata": {
    "collapsed": false
   },
   "outputs": [
    {
     "data": {
      "text/html": [
       "<div>\n",
       "<table border=\"1\" class=\"dataframe\">\n",
       "  <thead>\n",
       "    <tr style=\"text-align: right;\">\n",
       "      <th></th>\n",
       "      <th>married</th>\n",
       "      <th>widowed</th>\n",
       "      <th>divorced</th>\n",
       "      <th>separated</th>\n",
       "      <th>never married</th>\n",
       "      <th>rowTotal</th>\n",
       "    </tr>\n",
       "  </thead>\n",
       "  <tbody>\n",
       "    <tr>\n",
       "      <th>male</th>\n",
       "      <td>882</td>\n",
       "      <td>52</td>\n",
       "      <td>231</td>\n",
       "      <td>61</td>\n",
       "      <td>1836</td>\n",
       "      <td>3062</td>\n",
       "    </tr>\n",
       "    <tr>\n",
       "      <th>female</th>\n",
       "      <td>857</td>\n",
       "      <td>230</td>\n",
       "      <td>326</td>\n",
       "      <td>56</td>\n",
       "      <td>1986</td>\n",
       "      <td>3455</td>\n",
       "    </tr>\n",
       "    <tr>\n",
       "      <th>colTotal</th>\n",
       "      <td>1739</td>\n",
       "      <td>282</td>\n",
       "      <td>557</td>\n",
       "      <td>117</td>\n",
       "      <td>3822</td>\n",
       "      <td>6517</td>\n",
       "    </tr>\n",
       "  </tbody>\n",
       "</table>\n",
       "</div>"
      ],
      "text/plain": [
       "          married  widowed  divorced  separated  never married  rowTotal\n",
       "male          882       52       231         61           1836      3062\n",
       "female        857      230       326         56           1986      3455\n",
       "colTotal     1739      282       557        117           3822      6517"
      ]
     },
     "metadata": {},
     "output_type": "display_data"
    },
    {
     "data": {
      "text/html": [
       "<div>\n",
       "<table border=\"1\" class=\"dataframe\">\n",
       "  <thead>\n",
       "    <tr style=\"text-align: right;\">\n",
       "      <th></th>\n",
       "      <th>married</th>\n",
       "      <th>widowed</th>\n",
       "      <th>divorced</th>\n",
       "      <th>separated</th>\n",
       "      <th>never married</th>\n",
       "      <th>rowTotal</th>\n",
       "    </tr>\n",
       "  </thead>\n",
       "  <tbody>\n",
       "    <tr>\n",
       "      <th>male</th>\n",
       "      <td>0.507188</td>\n",
       "      <td>0.184397</td>\n",
       "      <td>0.414722</td>\n",
       "      <td>0.521368</td>\n",
       "      <td>0.480377</td>\n",
       "      <td>0.469848</td>\n",
       "    </tr>\n",
       "    <tr>\n",
       "      <th>female</th>\n",
       "      <td>0.492812</td>\n",
       "      <td>0.815603</td>\n",
       "      <td>0.585278</td>\n",
       "      <td>0.478632</td>\n",
       "      <td>0.519623</td>\n",
       "      <td>0.530152</td>\n",
       "    </tr>\n",
       "    <tr>\n",
       "      <th>colTotal</th>\n",
       "      <td>1.000000</td>\n",
       "      <td>1.000000</td>\n",
       "      <td>1.000000</td>\n",
       "      <td>1.000000</td>\n",
       "      <td>1.000000</td>\n",
       "      <td>1.000000</td>\n",
       "    </tr>\n",
       "  </tbody>\n",
       "</table>\n",
       "</div>"
      ],
      "text/plain": [
       "           married   widowed  divorced  separated  never married  rowTotal\n",
       "male      0.507188  0.184397  0.414722   0.521368       0.480377  0.469848\n",
       "female    0.492812  0.815603  0.585278   0.478632       0.519623  0.530152\n",
       "colTotal  1.000000  1.000000  1.000000   1.000000       1.000000  1.000000"
      ]
     },
     "metadata": {},
     "output_type": "display_data"
    },
    {
     "data": {
      "text/html": [
       "<div>\n",
       "<table border=\"1\" class=\"dataframe\">\n",
       "  <thead>\n",
       "    <tr style=\"text-align: right;\">\n",
       "      <th></th>\n",
       "      <th>WageZ</th>\n",
       "      <th>HrsZ</th>\n",
       "      <th>Zsum</th>\n",
       "    </tr>\n",
       "  </thead>\n",
       "  <tbody>\n",
       "    <tr>\n",
       "      <th>0</th>\n",
       "      <td>-0.609258</td>\n",
       "      <td>-0.855743</td>\n",
       "      <td>0.521368</td>\n",
       "    </tr>\n",
       "    <tr>\n",
       "      <th>1</th>\n",
       "      <td>-0.640499</td>\n",
       "      <td>NaN</td>\n",
       "      <td>NaN</td>\n",
       "    </tr>\n",
       "    <tr>\n",
       "      <th>2</th>\n",
       "      <td>-0.640499</td>\n",
       "      <td>NaN</td>\n",
       "      <td>NaN</td>\n",
       "    </tr>\n",
       "    <tr>\n",
       "      <th>3</th>\n",
       "      <td>-0.640499</td>\n",
       "      <td>NaN</td>\n",
       "      <td>NaN</td>\n",
       "    </tr>\n",
       "    <tr>\n",
       "      <th>4</th>\n",
       "      <td>0.254132</td>\n",
       "      <td>0.033396</td>\n",
       "      <td>0.008487</td>\n",
       "    </tr>\n",
       "  </tbody>\n",
       "</table>\n",
       "</div>"
      ],
      "text/plain": [
       "      WageZ      HrsZ      Zsum\n",
       "0 -0.609258 -0.855743  0.521368\n",
       "1 -0.640499       NaN       NaN\n",
       "2 -0.640499       NaN       NaN\n",
       "3 -0.640499       NaN       NaN\n",
       "4  0.254132  0.033396  0.008487"
      ]
     },
     "metadata": {},
     "output_type": "display_data"
    },
    {
     "name": "stdout",
     "output_type": "stream",
     "text": [
      "The Pearson corr coefficient for hrs worked and annual wages is 0.45.\n"
     ]
    },
    {
     "data": {
      "image/png": "[encoded data removed]",
      "text/plain": [
       "<matplotlib.figure.Figure at 0xcc407b8>"
      ]
     },
     "metadata": {},
     "output_type": "display_data"
    }
   ],
   "source": [
    "#Freq Tables for Gender vs. Marital Status\n",
    "marriage = pd.crosstab(index=data['SEX'],\n",
    "            columns=data['MAR'],\n",
    "            margins = True)\n",
    "marriage.index=['male','female', 'colTotal']\n",
    "marriage.columns=['married','widowed','divorced','separated','never married','rowTotal']\n",
    "display(marriage)\n",
    "display(marriage/marriage.ix['colTotal'])\n",
    "\n",
    "#Scatterplot for WKHP and WAGP\n",
    "wage = data.WAGPconv\n",
    "hrswk2 = pd.to_numeric(data.WKHP, errors = 'coerce')\n",
    "plt.figure()\n",
    "plt.title('Hours Worked vs. Annual Wages')\n",
    "plt.xlim(hrswk2.min(),hrswk2.max()+5)\n",
    "plt.ylim(wage.min(),wage.max()+100000)\n",
    "plt.scatter(hrswk2,wage)\n",
    "\n",
    "#Pearson's R - hrs worked and income\n",
    "wageZ = wage.apply(lambda x: (x-wage.mean())/wage.std())\n",
    "wageZ.name = 'WageZ'\n",
    "hrsZ = hrswk.apply(lambda x: (x-hrswk.mean())/hrswk.std())\n",
    "hrsZ.name = 'HrsZ'\n",
    "ztbl = pd.concat([wageZ, hrsZ], axis = 1)\n",
    "ztbl['Zsum'] = ztbl.WageZ*ztbl.HrsZ\n",
    "display(ztbl.head(5))\n",
    "sumZ = ztbl.Zsum.sum()\n",
    "ct = ztbl.Zsum.count()\n",
    "R = round(sumZ/(ct),2)\n",
    "print 'The Pearson corr coefficient for hrs worked and annual wages is {R}.'.format(R=R)"
   ]
  },
  {
   "cell_type": "markdown",
   "metadata": {},
   "source": [
    "### Regression\n",
    "Work in progress"
   ]
  }
 ],
 "metadata": {
  "kernelspec": {
   "display_name": "Python 2",
   "language": "python",
   "name": "python2"
  },
  "language_info": {
   "codemirror_mode": {
    "name": "ipython",
    "version": 2
   },
   "file_extension": ".py",
   "mimetype": "text/x-python",
   "name": "python",
   "nbconvert_exporter": "python",
   "pygments_lexer": "ipython2",
   "version": "2.7.11"
  }
 },
 "nbformat": 4,
 "nbformat_minor": 0
}
