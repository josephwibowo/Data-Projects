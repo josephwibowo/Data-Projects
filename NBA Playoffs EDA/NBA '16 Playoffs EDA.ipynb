{
 "cells": [
  {
   "cell_type": "code",
   "execution_count": 1,
   "metadata": {
    "collapsed": true
   },
   "outputs": [],
   "source": [
    "#Relevant libraries needed\n",
    "import pandas as pd\n",
    "import numpy as np\n",
    "%matplotlib inline\n",
    "import matplotlib.pylab as plt"
   ]
  },
  {
   "cell_type": "markdown",
   "metadata": {},
   "source": [
    "## Overview\n",
    "Data is from here: http://www.basketball-reference.com/playoffs/NBA_2016.html\n",
    "\n",
    "This is a very introductory attempt at Exploratory Data Analysis for players in the NBA playoffs using Pandas.\n",
    "\n",
    "## Step 1 (reading in data)\n",
    "Read in the files for each team into a dataframe and then add a column to each dataframe indicating the team. After that, concat the dataframes to make 1 giant list of Western Conference Playoff players called players."
   ]
  },
  {
   "cell_type": "code",
   "execution_count": 2,
   "metadata": {
    "collapsed": false
   },
   "outputs": [
    {
     "name": "stdout",
     "output_type": "stream",
     "text": [
      "(106, 29)\n"
     ]
    },
    {
     "data": {
      "text/html": [
       "<div>\n",
       "<table border=\"1\" class=\"dataframe\">\n",
       "  <thead>\n",
       "    <tr style=\"text-align: right;\">\n",
       "      <th></th>\n",
       "      <th>Rk</th>\n",
       "      <th>Player</th>\n",
       "      <th>Age</th>\n",
       "      <th>G</th>\n",
       "      <th>GS</th>\n",
       "      <th>MP</th>\n",
       "      <th>FG</th>\n",
       "      <th>FGA</th>\n",
       "      <th>FG%</th>\n",
       "      <th>3P</th>\n",
       "      <th>...</th>\n",
       "      <th>ORB</th>\n",
       "      <th>DRB</th>\n",
       "      <th>TRB</th>\n",
       "      <th>AST</th>\n",
       "      <th>STL</th>\n",
       "      <th>BLK</th>\n",
       "      <th>TOV</th>\n",
       "      <th>PF</th>\n",
       "      <th>PTS</th>\n",
       "      <th>TEAM</th>\n",
       "    </tr>\n",
       "  </thead>\n",
       "  <tbody>\n",
       "    <tr>\n",
       "      <th>0</th>\n",
       "      <td>1</td>\n",
       "      <td>Draymond Green</td>\n",
       "      <td>25</td>\n",
       "      <td>23</td>\n",
       "      <td>23</td>\n",
       "      <td>879</td>\n",
       "      <td>119</td>\n",
       "      <td>276</td>\n",
       "      <td>0.431</td>\n",
       "      <td>38</td>\n",
       "      <td>...</td>\n",
       "      <td>38</td>\n",
       "      <td>190</td>\n",
       "      <td>228</td>\n",
       "      <td>138</td>\n",
       "      <td>37</td>\n",
       "      <td>41</td>\n",
       "      <td>56</td>\n",
       "      <td>81</td>\n",
       "      <td>355</td>\n",
       "      <td>GSW</td>\n",
       "    </tr>\n",
       "    <tr>\n",
       "      <th>1</th>\n",
       "      <td>2</td>\n",
       "      <td>Klay Thompson</td>\n",
       "      <td>25</td>\n",
       "      <td>24</td>\n",
       "      <td>24</td>\n",
       "      <td>849</td>\n",
       "      <td>201</td>\n",
       "      <td>453</td>\n",
       "      <td>0.444</td>\n",
       "      <td>98</td>\n",
       "      <td>...</td>\n",
       "      <td>15</td>\n",
       "      <td>73</td>\n",
       "      <td>88</td>\n",
       "      <td>54</td>\n",
       "      <td>26</td>\n",
       "      <td>9</td>\n",
       "      <td>47</td>\n",
       "      <td>53</td>\n",
       "      <td>582</td>\n",
       "      <td>GSW</td>\n",
       "    </tr>\n",
       "    <tr>\n",
       "      <th>2</th>\n",
       "      <td>3</td>\n",
       "      <td>Andre Iguodala</td>\n",
       "      <td>32</td>\n",
       "      <td>24</td>\n",
       "      <td>3</td>\n",
       "      <td>767</td>\n",
       "      <td>78</td>\n",
       "      <td>164</td>\n",
       "      <td>0.476</td>\n",
       "      <td>25</td>\n",
       "      <td>...</td>\n",
       "      <td>35</td>\n",
       "      <td>70</td>\n",
       "      <td>105</td>\n",
       "      <td>90</td>\n",
       "      <td>29</td>\n",
       "      <td>10</td>\n",
       "      <td>23</td>\n",
       "      <td>37</td>\n",
       "      <td>213</td>\n",
       "      <td>GSW</td>\n",
       "    </tr>\n",
       "    <tr>\n",
       "      <th>3</th>\n",
       "      <td>4</td>\n",
       "      <td>Harrison Barnes</td>\n",
       "      <td>23</td>\n",
       "      <td>24</td>\n",
       "      <td>23</td>\n",
       "      <td>743</td>\n",
       "      <td>82</td>\n",
       "      <td>213</td>\n",
       "      <td>0.385</td>\n",
       "      <td>26</td>\n",
       "      <td>...</td>\n",
       "      <td>27</td>\n",
       "      <td>85</td>\n",
       "      <td>112</td>\n",
       "      <td>30</td>\n",
       "      <td>17</td>\n",
       "      <td>4</td>\n",
       "      <td>18</td>\n",
       "      <td>46</td>\n",
       "      <td>216</td>\n",
       "      <td>GSW</td>\n",
       "    </tr>\n",
       "    <tr>\n",
       "      <th>4</th>\n",
       "      <td>5</td>\n",
       "      <td>Stephen Curry</td>\n",
       "      <td>27</td>\n",
       "      <td>18</td>\n",
       "      <td>17</td>\n",
       "      <td>614</td>\n",
       "      <td>148</td>\n",
       "      <td>338</td>\n",
       "      <td>0.438</td>\n",
       "      <td>80</td>\n",
       "      <td>...</td>\n",
       "      <td>14</td>\n",
       "      <td>85</td>\n",
       "      <td>99</td>\n",
       "      <td>93</td>\n",
       "      <td>26</td>\n",
       "      <td>5</td>\n",
       "      <td>75</td>\n",
       "      <td>39</td>\n",
       "      <td>452</td>\n",
       "      <td>GSW</td>\n",
       "    </tr>\n",
       "    <tr>\n",
       "      <th>5</th>\n",
       "      <td>6</td>\n",
       "      <td>Shaun Livingston</td>\n",
       "      <td>30</td>\n",
       "      <td>24</td>\n",
       "      <td>7</td>\n",
       "      <td>514</td>\n",
       "      <td>82</td>\n",
       "      <td>168</td>\n",
       "      <td>0.488</td>\n",
       "      <td>0</td>\n",
       "      <td>...</td>\n",
       "      <td>13</td>\n",
       "      <td>63</td>\n",
       "      <td>76</td>\n",
       "      <td>80</td>\n",
       "      <td>12</td>\n",
       "      <td>5</td>\n",
       "      <td>29</td>\n",
       "      <td>48</td>\n",
       "      <td>196</td>\n",
       "      <td>GSW</td>\n",
       "    </tr>\n",
       "    <tr>\n",
       "      <th>6</th>\n",
       "      <td>7</td>\n",
       "      <td>Andrew Bogut</td>\n",
       "      <td>31</td>\n",
       "      <td>22</td>\n",
       "      <td>22</td>\n",
       "      <td>365</td>\n",
       "      <td>48</td>\n",
       "      <td>77</td>\n",
       "      <td>0.623</td>\n",
       "      <td>0</td>\n",
       "      <td>...</td>\n",
       "      <td>47</td>\n",
       "      <td>78</td>\n",
       "      <td>125</td>\n",
       "      <td>30</td>\n",
       "      <td>14</td>\n",
       "      <td>35</td>\n",
       "      <td>19</td>\n",
       "      <td>72</td>\n",
       "      <td>101</td>\n",
       "      <td>GSW</td>\n",
       "    </tr>\n",
       "    <tr>\n",
       "      <th>7</th>\n",
       "      <td>8</td>\n",
       "      <td>Leandro Barbosa</td>\n",
       "      <td>33</td>\n",
       "      <td>23</td>\n",
       "      <td>0</td>\n",
       "      <td>254</td>\n",
       "      <td>51</td>\n",
       "      <td>88</td>\n",
       "      <td>0.580</td>\n",
       "      <td>11</td>\n",
       "      <td>...</td>\n",
       "      <td>11</td>\n",
       "      <td>16</td>\n",
       "      <td>27</td>\n",
       "      <td>15</td>\n",
       "      <td>11</td>\n",
       "      <td>1</td>\n",
       "      <td>11</td>\n",
       "      <td>24</td>\n",
       "      <td>129</td>\n",
       "      <td>GSW</td>\n",
       "    </tr>\n",
       "    <tr>\n",
       "      <th>8</th>\n",
       "      <td>9</td>\n",
       "      <td>Festus Ezeli</td>\n",
       "      <td>26</td>\n",
       "      <td>23</td>\n",
       "      <td>1</td>\n",
       "      <td>203</td>\n",
       "      <td>37</td>\n",
       "      <td>69</td>\n",
       "      <td>0.536</td>\n",
       "      <td>0</td>\n",
       "      <td>...</td>\n",
       "      <td>23</td>\n",
       "      <td>38</td>\n",
       "      <td>61</td>\n",
       "      <td>8</td>\n",
       "      <td>1</td>\n",
       "      <td>7</td>\n",
       "      <td>14</td>\n",
       "      <td>34</td>\n",
       "      <td>93</td>\n",
       "      <td>GSW</td>\n",
       "    </tr>\n",
       "    <tr>\n",
       "      <th>9</th>\n",
       "      <td>10</td>\n",
       "      <td>Marreese Speights</td>\n",
       "      <td>28</td>\n",
       "      <td>24</td>\n",
       "      <td>0</td>\n",
       "      <td>201</td>\n",
       "      <td>46</td>\n",
       "      <td>118</td>\n",
       "      <td>0.390</td>\n",
       "      <td>18</td>\n",
       "      <td>...</td>\n",
       "      <td>15</td>\n",
       "      <td>32</td>\n",
       "      <td>47</td>\n",
       "      <td>11</td>\n",
       "      <td>3</td>\n",
       "      <td>8</td>\n",
       "      <td>20</td>\n",
       "      <td>43</td>\n",
       "      <td>134</td>\n",
       "      <td>GSW</td>\n",
       "    </tr>\n",
       "  </tbody>\n",
       "</table>\n",
       "<p>10 rows × 29 columns</p>\n",
       "</div>"
      ],
      "text/plain": [
       "   Rk             Player  Age   G  GS   MP   FG  FGA    FG%  3P  ...   ORB  \\\n",
       "0   1     Draymond Green   25  23  23  879  119  276  0.431  38  ...    38   \n",
       "1   2      Klay Thompson   25  24  24  849  201  453  0.444  98  ...    15   \n",
       "2   3     Andre Iguodala   32  24   3  767   78  164  0.476  25  ...    35   \n",
       "3   4    Harrison Barnes   23  24  23  743   82  213  0.385  26  ...    27   \n",
       "4   5      Stephen Curry   27  18  17  614  148  338  0.438  80  ...    14   \n",
       "5   6   Shaun Livingston   30  24   7  514   82  168  0.488   0  ...    13   \n",
       "6   7       Andrew Bogut   31  22  22  365   48   77  0.623   0  ...    47   \n",
       "7   8    Leandro Barbosa   33  23   0  254   51   88  0.580  11  ...    11   \n",
       "8   9       Festus Ezeli   26  23   1  203   37   69  0.536   0  ...    23   \n",
       "9  10  Marreese Speights   28  24   0  201   46  118  0.390  18  ...    15   \n",
       "\n",
       "   DRB  TRB  AST  STL  BLK  TOV  PF  PTS  TEAM  \n",
       "0  190  228  138   37   41   56  81  355   GSW  \n",
       "1   73   88   54   26    9   47  53  582   GSW  \n",
       "2   70  105   90   29   10   23  37  213   GSW  \n",
       "3   85  112   30   17    4   18  46  216   GSW  \n",
       "4   85   99   93   26    5   75  39  452   GSW  \n",
       "5   63   76   80   12    5   29  48  196   GSW  \n",
       "6   78  125   30   14   35   19  72  101   GSW  \n",
       "7   16   27   15   11    1   11  24  129   GSW  \n",
       "8   38   61    8    1    7   14  34   93   GSW  \n",
       "9   32   47   11    3    8   20  43  134   GSW  \n",
       "\n",
       "[10 rows x 29 columns]"
      ]
     },
     "execution_count": 2,
     "metadata": {},
     "output_type": "execute_result"
    }
   ],
   "source": [
    "#Read in all the files and merge\n",
    "df = pd.read_csv('gsw.csv')\n",
    "df['TEAM'] = 'GSW'\n",
    "df2 = pd.read_csv('dal.csv')\n",
    "df2['TEAM'] = 'DAL'\n",
    "df3 = pd.read_csv('hou.csv')\n",
    "df3['TEAM'] = 'HOU'\n",
    "df4 = pd.read_csv('lac.csv')\n",
    "df4['TEAM'] = 'LAC'\n",
    "df5 = pd.read_csv('mem.csv')\n",
    "df5['TEAM'] = 'MEM'\n",
    "df6 = pd.read_csv('okc.csv')\n",
    "df6['TEAM'] = 'OKC'\n",
    "df7 = pd.read_csv('por.csv')\n",
    "df7['TEAM'] = 'POR'\n",
    "df8 = pd.read_csv('spurs.csv')\n",
    "df8['TEAM'] = 'SAS'\n",
    "dfs = [df,df2,df3,df4,df5,df6,df7,df8]\n",
    "players  = pd.concat(dfs, ignore_index=True)\n",
    "print players.shape\n",
    "players.head(10)"
   ]
  },
  {
   "cell_type": "markdown",
   "metadata": {},
   "source": [
    "## Step 2 (data manipulation)\n",
    "Looking at the data, it seems to have given the totals for each player throughout their entire playoff debut. This means that the players given cannot be comparable to other players unless the players have played the same amount of games. Thus, we need to create columns that have the per game numbers."
   ]
  },
  {
   "cell_type": "code",
   "execution_count": 3,
   "metadata": {
    "collapsed": false
   },
   "outputs": [
    {
     "name": "stdout",
     "output_type": "stream",
     "text": [
      "Index([u'Rk', u'Player', u'Age', u'G', u'GS', u'MP', u'FG', u'FGA', u'FG%',\n",
      "       u'3P', u'3PA', u'3P%', u'2P', u'2PA', u'2P%', u'eFG%', u'FT', u'FTA',\n",
      "       u'FT%', u'ORB', u'DRB', u'TRB', u'AST', u'STL', u'BLK', u'TOV', u'PF',\n",
      "       u'PTS', u'TEAM'],\n",
      "      dtype='object')\n",
      "['MPPG', 'FGPG', 'FGAPG', '3PPG', '3PAPG', '2PPG', '2PAPG', 'FTPG', 'FTAPG', 'ORBPG', 'DRBPG', 'TRBPG', 'ASTPG', 'STLPG', 'BLKPG', 'TOVPG', 'PFPG', 'PTSPG']\n"
     ]
    },
    {
     "data": {
      "text/html": [
       "<div>\n",
       "<table border=\"1\" class=\"dataframe\">\n",
       "  <thead>\n",
       "    <tr style=\"text-align: right;\">\n",
       "      <th></th>\n",
       "      <th>Rk</th>\n",
       "      <th>Player</th>\n",
       "      <th>Age</th>\n",
       "      <th>G</th>\n",
       "      <th>GS</th>\n",
       "      <th>MP</th>\n",
       "      <th>FG</th>\n",
       "      <th>FGA</th>\n",
       "      <th>FG%</th>\n",
       "      <th>3P</th>\n",
       "      <th>...</th>\n",
       "      <th>FTAPG</th>\n",
       "      <th>ORBPG</th>\n",
       "      <th>DRBPG</th>\n",
       "      <th>TRBPG</th>\n",
       "      <th>ASTPG</th>\n",
       "      <th>STLPG</th>\n",
       "      <th>BLKPG</th>\n",
       "      <th>TOVPG</th>\n",
       "      <th>PFPG</th>\n",
       "      <th>PTSPG</th>\n",
       "    </tr>\n",
       "  </thead>\n",
       "  <tbody>\n",
       "    <tr>\n",
       "      <th>0</th>\n",
       "      <td>1</td>\n",
       "      <td>Draymond Green</td>\n",
       "      <td>25</td>\n",
       "      <td>23</td>\n",
       "      <td>23</td>\n",
       "      <td>879</td>\n",
       "      <td>119</td>\n",
       "      <td>276</td>\n",
       "      <td>0.431</td>\n",
       "      <td>38</td>\n",
       "      <td>...</td>\n",
       "      <td>4.7</td>\n",
       "      <td>1.7</td>\n",
       "      <td>8.3</td>\n",
       "      <td>9.9</td>\n",
       "      <td>6.0</td>\n",
       "      <td>1.6</td>\n",
       "      <td>1.8</td>\n",
       "      <td>2.4</td>\n",
       "      <td>3.5</td>\n",
       "      <td>15.4</td>\n",
       "    </tr>\n",
       "    <tr>\n",
       "      <th>1</th>\n",
       "      <td>2</td>\n",
       "      <td>Klay Thompson</td>\n",
       "      <td>25</td>\n",
       "      <td>24</td>\n",
       "      <td>24</td>\n",
       "      <td>849</td>\n",
       "      <td>201</td>\n",
       "      <td>453</td>\n",
       "      <td>0.444</td>\n",
       "      <td>98</td>\n",
       "      <td>...</td>\n",
       "      <td>4.0</td>\n",
       "      <td>0.6</td>\n",
       "      <td>3.0</td>\n",
       "      <td>3.7</td>\n",
       "      <td>2.2</td>\n",
       "      <td>1.1</td>\n",
       "      <td>0.4</td>\n",
       "      <td>2.0</td>\n",
       "      <td>2.2</td>\n",
       "      <td>24.2</td>\n",
       "    </tr>\n",
       "    <tr>\n",
       "      <th>2</th>\n",
       "      <td>3</td>\n",
       "      <td>Andre Iguodala</td>\n",
       "      <td>32</td>\n",
       "      <td>24</td>\n",
       "      <td>3</td>\n",
       "      <td>767</td>\n",
       "      <td>78</td>\n",
       "      <td>164</td>\n",
       "      <td>0.476</td>\n",
       "      <td>25</td>\n",
       "      <td>...</td>\n",
       "      <td>2.4</td>\n",
       "      <td>1.5</td>\n",
       "      <td>2.9</td>\n",
       "      <td>4.4</td>\n",
       "      <td>3.8</td>\n",
       "      <td>1.2</td>\n",
       "      <td>0.4</td>\n",
       "      <td>1.0</td>\n",
       "      <td>1.5</td>\n",
       "      <td>8.9</td>\n",
       "    </tr>\n",
       "    <tr>\n",
       "      <th>3</th>\n",
       "      <td>4</td>\n",
       "      <td>Harrison Barnes</td>\n",
       "      <td>23</td>\n",
       "      <td>24</td>\n",
       "      <td>23</td>\n",
       "      <td>743</td>\n",
       "      <td>82</td>\n",
       "      <td>213</td>\n",
       "      <td>0.385</td>\n",
       "      <td>26</td>\n",
       "      <td>...</td>\n",
       "      <td>1.4</td>\n",
       "      <td>1.1</td>\n",
       "      <td>3.5</td>\n",
       "      <td>4.7</td>\n",
       "      <td>1.2</td>\n",
       "      <td>0.7</td>\n",
       "      <td>0.2</td>\n",
       "      <td>0.8</td>\n",
       "      <td>1.9</td>\n",
       "      <td>9.0</td>\n",
       "    </tr>\n",
       "    <tr>\n",
       "      <th>4</th>\n",
       "      <td>5</td>\n",
       "      <td>Stephen Curry</td>\n",
       "      <td>27</td>\n",
       "      <td>18</td>\n",
       "      <td>17</td>\n",
       "      <td>614</td>\n",
       "      <td>148</td>\n",
       "      <td>338</td>\n",
       "      <td>0.438</td>\n",
       "      <td>80</td>\n",
       "      <td>...</td>\n",
       "      <td>4.6</td>\n",
       "      <td>0.8</td>\n",
       "      <td>4.7</td>\n",
       "      <td>5.5</td>\n",
       "      <td>5.2</td>\n",
       "      <td>1.4</td>\n",
       "      <td>0.3</td>\n",
       "      <td>4.2</td>\n",
       "      <td>2.2</td>\n",
       "      <td>25.1</td>\n",
       "    </tr>\n",
       "  </tbody>\n",
       "</table>\n",
       "<p>5 rows × 47 columns</p>\n",
       "</div>"
      ],
      "text/plain": [
       "   Rk           Player  Age   G  GS   MP   FG  FGA    FG%  3P  ...    FTAPG  \\\n",
       "0   1   Draymond Green   25  23  23  879  119  276  0.431  38  ...      4.7   \n",
       "1   2    Klay Thompson   25  24  24  849  201  453  0.444  98  ...      4.0   \n",
       "2   3   Andre Iguodala   32  24   3  767   78  164  0.476  25  ...      2.4   \n",
       "3   4  Harrison Barnes   23  24  23  743   82  213  0.385  26  ...      1.4   \n",
       "4   5    Stephen Curry   27  18  17  614  148  338  0.438  80  ...      4.6   \n",
       "\n",
       "   ORBPG  DRBPG  TRBPG  ASTPG  STLPG  BLKPG  TOVPG  PFPG  PTSPG  \n",
       "0    1.7    8.3    9.9    6.0    1.6    1.8    2.4   3.5   15.4  \n",
       "1    0.6    3.0    3.7    2.2    1.1    0.4    2.0   2.2   24.2  \n",
       "2    1.5    2.9    4.4    3.8    1.2    0.4    1.0   1.5    8.9  \n",
       "3    1.1    3.5    4.7    1.2    0.7    0.2    0.8   1.9    9.0  \n",
       "4    0.8    4.7    5.5    5.2    1.4    0.3    4.2   2.2   25.1  \n",
       "\n",
       "[5 rows x 47 columns]"
      ]
     },
     "execution_count": 3,
     "metadata": {},
     "output_type": "execute_result"
    }
   ],
   "source": [
    "#let's see a list of all the variables to see which per game columns we want\n",
    "print players.columns  \n",
    "\n",
    "#let's create a list of the relevant var names and an empty list to store the new columns\n",
    "atr = ['MP','FG','FGA','3P','3PA','2P','2PA','FT','FTA','ORB','DRB','TRB','AST','STL','BLK','TOV','PF','PTS']\n",
    "atrPG = []\n",
    "\n",
    "#use a for loop to create the new column names by appending them to the empty 'atrPG' list\n",
    "for a in atr:\n",
    "    atrPG.append(a + 'PG')\n",
    "print atrPG\n",
    "\n",
    "#Now let's add the columns to the players dataframe with the values being (relevant column/Games Played column)\n",
    "#We also want to round the numbers to make the data more readable and accurate to what you would see on TV\n",
    "for a, b in zip(atr, atrPG):\n",
    "    players[b] = players[a] / players.G\n",
    "    players[b] = players[b].round(1)\n",
    "players.head()"
   ]
  },
  {
   "cell_type": "markdown",
   "metadata": {},
   "source": [
    "## Step 3 (Explore a little)\n",
    "Now we can easily see stats on which players performed best. It seems KD had the highest PPG and DeAndre Jordan had the highest Free Throw attempts.\n",
    "\n",
    "One way of comparing players beyond the recorded stats is statistics like efficiency which is defined here: https://en.wikipedia.org/wiki/Efficiency_(basketball)\n",
    "\n",
    "Let's create the efficiency column and do simple vector operations to get the values. Once that's done, you can see that Russell Westbrook is the most efficient player while KD didn't even make the top 5 which is quite interesting.\n",
    "\n",
    "We can also group the data by team to get the average PPG based on the sum of all the players on the team. We can also compare efficiency across each player on the team and see which team churns out the most efficient players on average. It seems like Houston does not like to play efficient basketball. I also calculated the amount of misses per player using our already existing columns from calculating efficiency and gave free throw misses half weight. Perhaps it will give us a clearer picture of why some teams are inefficient yet score a lot."
   ]
  },
  {
   "cell_type": "code",
   "execution_count": 4,
   "metadata": {
    "collapsed": false,
    "scrolled": true
   },
   "outputs": [
    {
     "name": "stdout",
     "output_type": "stream",
     "text": [
      "               Player  PTSPG\n",
      "65       Kevin Durant   28.4\n",
      "27       James Harden   26.6\n",
      "80     Damian Lillard   26.5\n",
      "66  Russell Westbrook   26.0\n",
      "4       Stephen Curry   25.1\n",
      "               Player  FTAPG\n",
      "41     DeAndre Jordan    9.8\n",
      "27       James Harden    9.0\n",
      "65       Kevin Durant    8.1\n",
      "66  Russell Westbrook    7.8\n",
      "29      Dwight Howard    7.6\n",
      "               Player   EFF\n",
      "66  Russell Westbrook  27.9\n",
      "46         Chris Paul  26.5\n",
      "92      Kawhi Leonard  24.8\n",
      "0      Draymond Green  24.3\n",
      "41     DeAndre Jordan  24.0\n",
      "      PTSPG\n",
      "TEAM       \n",
      "GSW   118.1\n",
      "LAC   112.8\n",
      "OKC   111.0\n",
      "SAS   109.2\n",
      "POR   108.4\n",
      "DAL   104.4\n",
      "HOU    95.1\n",
      "MEM    84.7\n",
      "           EFF\n",
      "TEAM          \n",
      "GSW   9.614286\n",
      "SAS   9.164286\n",
      "OKC   9.064286\n",
      "POR   8.907692\n",
      "LAC   8.892857\n",
      "DAL   7.953846\n",
      "MEM   7.527273\n",
      "HOU   6.923077\n",
      "           MISS\n",
      "TEAM           \n",
      "LAC   60.533333\n",
      "HOU   60.000000\n",
      "POR   57.519697\n",
      "DAL   55.150000\n",
      "MEM   54.750000\n",
      "GSW   54.516897\n",
      "OKC   52.454960\n",
      "SAS   49.492857\n"
     ]
    }
   ],
   "source": [
    "#5 top minutes played\n",
    "print players[['Player','PTSPG']].sort_values('PTSPG', ascending = False).head()\n",
    "#5 most fouled\n",
    "print players[['Player','FTAPG']].sort_values('FTAPG', ascending = False).head() #hack a jordan is real\n",
    "\n",
    "#PPG isn't the best measure of a player's performance. Efficiency is also very important. Let's find the most efficient players\n",
    "#Equation: (PTS + REB + AST + STL + BLK − Missed FG − Missed FT − TO) / GP\n",
    "players['FGM']= players.FGA-players.FG\n",
    "players['FTM']= players.FTA-players.FT\n",
    "players['EFF'] = pd.Series.round((players.PTS + players.TRB + players.AST + players.STL + players.BLK - players.FGM - \\\n",
    "                 players.FTM - players.TOV ) / players.G,1)\n",
    "print players[['Player','EFF']].sort_values('EFF', ascending = False).head()\n",
    "\n",
    "#Let's look at team performances now\n",
    "print players[['TEAM','PTSPG']].groupby('TEAM').sum().sort_values('PTSPG', ascending = False)\n",
    "#which team had the highest overall team efficiency\n",
    "print players[['TEAM','EFF']].groupby('TEAM').mean().sort_values('EFF', ascending = False)\n",
    "\n",
    "players['MISS'] =  (players.FGM+(players.FTM/2))/players.G\n",
    "print players[['TEAM','MISS']].groupby('TEAM').sum().sort_values('MISS', ascending = False)\n"
   ]
  },
  {
   "cell_type": "markdown",
   "metadata": {},
   "source": [
    "## Step 4 (Visualize):\n",
    "Now we try to visualize some variables to see if we can recognize any fun patterns. \n",
    "\n",
    "I first looked at the distribution of field goal attempts based on if you played less than 25 mins or more than 25 mins. It was expected that the more minutes you play, the more FGAs you take, but the right skew is very steep and nobody who plays less than 25 minutes attempts more than 12 field goals (16% of FGAs a game). Assuming they make around half of those shots, that means around 80% of playoff players contribute less than 12 points per game. We truly are in an era of superstar basketball. One interesting note are the 2 players who played more than 25 minutes yet only contribute only 3-6 shots a game. Those two players happen to be Andre Robertson and Danny Green, two defensive players. \n",
    "\n",
    "Next, I looked at MPG and EFF to see the correlation. It seems that there are 3 distinct clusters that form from 0-20 mins, 20-30 mins, and then 30+ mins. It might be interesting to look into those clusters and try to do segmentation on a larger dataset.\n",
    "\n",
    "Next, I wanted to look at each team's distribution of their most played players against their efficiency. There are quite a few interesting graphs that come from this. Memphis and Dallas are particularly interesting and shows why they seem to have lost so early on. All their players are about the same efficiency no matter how much playing time they get. While that may seem consistent, if you look at the other teams the pattern is the same: clusters of players near the top right who are most likely the \"all stars\" of the team have extremely high efficiencies and high playing time. "
   ]
  },
  {
   "cell_type": "code",
   "execution_count": 13,
   "metadata": {
    "collapsed": false
   },
   "outputs": [
    {
     "name": "stdout",
     "output_type": "stream",
     "text": [
      "            Player  MPPG  FGAPG\n",
      "70  Andre Roberson  26.2    4.8\n",
      "94     Danny Green  26.7    6.5\n"
     ]
    },
    {
     "data": {
      "image/png": "[encoded data removed]",
      "text/plain": [
       "<matplotlib.figure.Figure at 0xcbbcc88>"
      ]
     },
     "metadata": {},
     "output_type": "display_data"
    },
    {
     "data": {
      "image/png": "[encoded data removed]",
      "text/plain": [
       "<matplotlib.figure.Figure at 0xd605fd0>"
      ]
     },
     "metadata": {},
     "output_type": "display_data"
    },
    {
     "data": {
      "text/plain": [
       "<matplotlib.figure.Figure at 0xc139198>"
      ]
     },
     "metadata": {},
     "output_type": "display_data"
    },
    {
     "data": {
      "image/png": "[encoded data removed]",
      "text/plain": [
       "<matplotlib.figure.Figure at 0xc139278>"
      ]
     },
     "metadata": {},
     "output_type": "display_data"
    },
    {
     "data": {
      "text/plain": [
       "<matplotlib.figure.Figure at 0xc139b00>"
      ]
     },
     "metadata": {},
     "output_type": "display_data"
    },
    {
     "data": {
      "image/png": "[encoded data removed]",
      "text/plain": [
       "<matplotlib.figure.Figure at 0xb6db198>"
      ]
     },
     "metadata": {},
     "output_type": "display_data"
    },
    {
     "data": {
      "text/plain": [
       "<matplotlib.figure.Figure at 0xc139940>"
      ]
     },
     "metadata": {},
     "output_type": "display_data"
    },
    {
     "data": {
      "image/png": "[encoded data removed]",
      "text/plain": [
       "<matplotlib.figure.Figure at 0xcbbcb70>"
      ]
     },
     "metadata": {},
     "output_type": "display_data"
    },
    {
     "data": {
      "text/plain": [
       "<matplotlib.figure.Figure at 0xa17fda0>"
      ]
     },
     "metadata": {},
     "output_type": "display_data"
    },
    {
     "data": {
      "image/png": "[encoded data removed]",
      "text/plain": [
       "<matplotlib.figure.Figure at 0xa54ba20>"
      ]
     },
     "metadata": {},
     "output_type": "display_data"
    },
    {
     "data": {
      "text/plain": [
       "<matplotlib.figure.Figure at 0xcba44a8>"
      ]
     },
     "metadata": {},
     "output_type": "display_data"
    },
    {
     "data": {
      "image/png": "[encoded data removed]",
      "text/plain": [
       "<matplotlib.figure.Figure at 0xa4c4940>"
      ]
     },
     "metadata": {},
     "output_type": "display_data"
    },
    {
     "data": {
      "text/plain": [
       "<matplotlib.figure.Figure at 0xbf238d0>"
      ]
     },
     "metadata": {},
     "output_type": "display_data"
    },
    {
     "data": {
      "image/png": "[encoded data removed]",
      "text/plain": [
       "<matplotlib.figure.Figure at 0x9d2a4e0>"
      ]
     },
     "metadata": {},
     "output_type": "display_data"
    },
    {
     "data": {
      "text/plain": [
       "<matplotlib.figure.Figure at 0x8cc5400>"
      ]
     },
     "metadata": {},
     "output_type": "display_data"
    },
    {
     "data": {
      "image/png": "[encoded data removed]",
      "text/plain": [
       "<matplotlib.figure.Figure at 0xbe057b8>"
      ]
     },
     "metadata": {},
     "output_type": "display_data"
    },
    {
     "data": {
      "text/plain": [
       "<matplotlib.figure.Figure at 0xa8023c8>"
      ]
     },
     "metadata": {},
     "output_type": "display_data"
    },
    {
     "data": {
      "image/png": "[encoded data removed]",
      "text/plain": [
       "<matplotlib.figure.Figure at 0x8bb4cf8>"
      ]
     },
     "metadata": {},
     "output_type": "display_data"
    }
   ],
   "source": [
    "#correlation for relevant columns\n",
    "players[['Age','MP','FG','FGA','3P','3PA','2P','2PA','FT','FTA','ORB','DRB','TRB','AST','STL','BLK','TOV','PF', 'MISS']].corr()\n",
    "\n",
    "#Histogram of FGAs for players who players >25 mins vs < 25 mins\n",
    "plt.figure()\n",
    "plt.title(\"Field Goal Attempts\")\n",
    "plt.xlabel(\"Average FGA per game\")\n",
    "plt.ylabel(\"Count\")\n",
    "plt.ylim([0,30])\n",
    "bins = [0,3,6,9,12,15,18,21,24]\n",
    "plt.hist(players.FGAPG[players['MPPG']>25], bins=bins,alpha = 0.5, label = '> 25 mins')\n",
    "plt.hist(players.FGAPG[players['MPPG']<= 25], bins=bins,alpha = 0.5, label='< 25 mins')\n",
    "plt.legend(loc=1)\n",
    "plt.xticks(range(0,25,3))\n",
    "print players[['Player','MPPG','FGAPG']][(players['MPPG']>25) & (players['FGAPG'] < 7)].sort_values('MPPG').head(2)\n",
    "\n",
    "#scatter plot of mpg vs eff\n",
    "plt.figure()\n",
    "plt.title(\"MPG vs. EFF\")\n",
    "plt.xlabel(\"MPG\")\n",
    "plt.ylabel(\"EFF\")\n",
    "plt.scatter(players.MPPG,players.EFF)\n",
    "\n",
    "for i, group in players.groupby('TEAM'):\n",
    "    plt.figure()\n",
    "    group.plot(x='MPPG', y='EFF', kind='scatter',title=str(i), xlim=(0,42), ylim = (0,30))\n"
   ]
  },
  {
   "cell_type": "markdown",
   "metadata": {},
   "source": [
    "## Step 5 (Have fun?)\n",
    "At this point, you can do whatever you want with the data. Ideally, you should have already determined some research/business questions to answer to give you some direction and perhaps try to create an algorithm and perform machine learning on the data. I decided to take a look at some what ifs and then do a pretty basic linear regression to compare playoff performance vs. regular season performance."
   ]
  },
  {
   "cell_type": "code",
   "execution_count": 28,
   "metadata": {
    "collapsed": false
   },
   "outputs": [
    {
     "name": "stdout",
     "output_type": "stream",
     "text": [
      "       MAKE\n",
      "TEAM       \n",
      "LAC   249.2\n",
      "GSW   248.9\n",
      "POR   243.3\n",
      "HOU   236.9\n",
      "OKC   233.7\n",
      "DAL   230.9\n",
      "SAS   219.9\n",
      "MEM   205.8\n"
     ]
    },
    {
     "data": {
      "image/png": "[encoded data removed]",
      "text/plain": [
       "<matplotlib.figure.Figure at 0xa4cda58>"
      ]
     },
     "metadata": {},
     "output_type": "display_data"
    }
   ],
   "source": [
    "#What if a team made every shot attempt they made, which team would score the highest on average?\n",
    "players['MAKE'] = (players['2PPG']+(players['2PAPG'] - players['2PPG']))*2 + (players['3PPG']+(players['3PAPG'] - \\\n",
    "                players['3PPG']))*3 + (players['FTPG']+(players['FTAPG'] - players['FTPG']))\n",
    "print players[['TEAM','MAKE']].groupby('TEAM').sum().sort_values('MAKE', ascending=False)\n",
    "\n",
    "#What if each team had equal possessions, which team would win based on %s?\n",
    "#find out proportions of 3pa and 2pa for each player? total fga\n",
    "players['3PROP'] = players['3PA']/players.FGA\n",
    "players['2PROP'] = players['2PA']/players.FGA\n",
    "players[['2PROP','3PROP']]\n",
    "\n",
    "def poss(teamA,A):\n",
    "    aSum = players['FGA'][players['TEAM']==teamA].sum()\n",
    "    final = []\n",
    "    for i in A:\n",
    "        possA = i*(players['FGA'][players['TEAM']==teamA]/aSum)\n",
    "        #threeptsA = pd.Series.round(possA*players['3PROP'][players['TEAM']==teamA],0).sum()*3\n",
    "        #twoptsA = pd.Series.round(possA*players['2PROP'][players['TEAM']==teamA],0).sum()*2\n",
    "        threeptsA = (possA*players['3PROP'][players['TEAM']==teamA]).sum()*3\n",
    "        twoptsA = (possA*players['2PROP'][players['TEAM']==teamA]).sum()*2\n",
    "        totalA = threeptsA + twoptsA\n",
    "        final.append(totalA)\n",
    "    return final\n",
    "\n",
    "def graph(form,teamsL, x_range):\n",
    "    x = np.array(x_range)\n",
    "    for i in teamsL:\n",
    "        y = poss(i,x)\n",
    "        a = plt.plot(x,y, label=i)\n",
    "        plt.legend(loc = 4)\n",
    "    plt.legend(loc='center left', bbox_to_anchor=(1, 0.5))\n",
    "teamsL = ['HOU','GSW','DAL','LAC','SAS','MEM','OKC','POR']\n",
    "plt.title(\"PTS If Every Shot Made\")\n",
    "plt.xlabel(\"Shot Attempts\")\n",
    "plt.ylabel(\"Points\")\n",
    "graph(poss,teamsL, range(90,95))"
   ]
  },
  {
   "cell_type": "code",
   "execution_count": 34,
   "metadata": {
    "collapsed": false
   },
   "outputs": [
    {
     "name": "stdout",
     "output_type": "stream",
     "text": [
      "      3PAPG\n",
      "TEAM       \n",
      "GSW    36.1\n",
      "POR    31.7\n",
      "HOU    29.6\n",
      "OKC    27.1\n",
      "DAL    22.9\n",
      "LAC    21.6\n",
      "SAS    21.0\n",
      "MEM    16.7\n",
      "[118.9294403892944]\n"
     ]
    },
    {
     "data": {
      "text/plain": [
       "<matplotlib.lines.Line2D at 0xbf50978>"
      ]
     },
     "execution_count": 34,
     "metadata": {},
     "output_type": "execute_result"
    },
    {
     "data": {
      "image/png": "[encoded data removed]",
      "text/plain": [
       "<matplotlib.figure.Figure at 0x9d2bd30>"
      ]
     },
     "metadata": {},
     "output_type": "display_data"
    }
   ],
   "source": [
    "#All this really reveals is the team that takes the most 3s on average. Let's take a look\n",
    "print players[['TEAM','3PAPG']].groupby('TEAM').sum().sort_values('3PAPG',ascending = False)\n",
    "\n",
    "#That's boring, what about if the teams didn't have equal possessions, how many more posesssions would it take memphis to beat GSW?\n",
    "mem = ['MEM']\n",
    "plt.figure(figsize=(6,4))\n",
    "plt.title(\"MEM vs. GSW\")\n",
    "plt.xlabel(\"Shot Attempts\")\n",
    "plt.ylabel(\"Points\")\n",
    "plt.xlim([50,60]) #set x axis\n",
    "plt.ylim([100,150])\n",
    "graph(poss, mem,range(0,100))\n",
    "gsw50 = poss('GSW',range(50,51))\n",
    "print gsw50\n",
    "plt.axhline(y=gsw50, color = 'gold')\n",
    "#looks like around 4 possessions more would be what Memphis needs to beat GSW."
   ]
  },
  {
   "cell_type": "code",
   "execution_count": 36,
   "metadata": {
    "collapsed": false
   },
   "outputs": [
    {
     "name": "stdout",
     "output_type": "stream",
     "text": [
      "[139.90654205607473, 142.23831775700936, 144.5700934579439, 146.90186915887847, 149.23364485981307]\n",
      "[95.56794392523364, 97.1607429906542, 98.75354205607476, 100.34634112149533, 101.93914018691586]\n"
     ]
    },
    {
     "data": {
      "text/plain": [
       "<matplotlib.text.Text at 0xc705cc0>"
      ]
     },
     "execution_count": 36,
     "metadata": {},
     "output_type": "execute_result"
    },
    {
     "data": {
      "image/png": "[encoded data removed]",
      "text/plain": [
       "<matplotlib.figure.Figure at 0xd5d8470>"
      ]
     },
     "metadata": {},
     "output_type": "display_data"
    }
   ],
   "source": [
    "#Using similar function to poss(), let's see if we can plot scores and compare to regular season games performance\n",
    "def poss2(teamA,A):\n",
    "    aSum = players['FGA'][players['TEAM']==teamA].sum() # sum of all FGAs\n",
    "    final = []\n",
    "    for i in A:\n",
    "        possA = i*(players['FGA'][players['TEAM']==teamA]/aSum) #each player's possession distr\n",
    "        threeptsA = (possA*players['3P%'][players['TEAM']==teamA]).sum()*3\n",
    "        twoptsA = (possA*players['2P%'][players['TEAM']==teamA]).sum()*2\n",
    "        totalA = threeptsA + twoptsA\n",
    "        final.append(totalA)\n",
    "    return final\n",
    "#test to see if it works compared to original poss() function\n",
    "print poss('HOU',np.array(range(60,65)))\n",
    "print poss2('HOU',np.array(range(60,65)))\n",
    "\n",
    "#regular season game performances\n",
    "mempossX = [77,83,90,76,75,86,82,75,85,86,82,82,95,91]\n",
    "mempossY = [92,103,95,103,103,106,109,101,96,101,112,113,83,95]\n",
    "plt.scatter(mempossX,mempossY)\n",
    "plt.scatter(mempossX,poss2('MEM',mempossX),color='red')\n",
    "plt.title(\"Grizzlies Prediction Model\")\n",
    "plt.xlabel(\"Shots Attempted\")\n",
    "plt.ylabel(\"Points\")"
   ]
  },
  {
   "cell_type": "markdown",
   "metadata": {},
   "source": [
    "Given this, it looks like the Grizzlies performed better in the playoffs on average, but obviously that may not have been the case since there are so many other factors/variables that can impact a team's final score, and number of FGAs does not seem to be the best indicator of a team's final score."
   ]
  }
 ],
 "metadata": {
  "kernelspec": {
   "display_name": "Python 2",
   "language": "python",
   "name": "python2"
  },
  "language_info": {
   "codemirror_mode": {
    "name": "ipython",
    "version": 2
   },
   "file_extension": ".py",
   "mimetype": "text/x-python",
   "name": "python",
   "nbconvert_exporter": "python",
   "pygments_lexer": "ipython2",
   "version": "2.7.11"
  }
 },
 "nbformat": 4,
 "nbformat_minor": 0
}
