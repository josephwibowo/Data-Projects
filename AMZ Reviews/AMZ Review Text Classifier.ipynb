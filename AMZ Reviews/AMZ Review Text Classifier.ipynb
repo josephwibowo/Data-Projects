{
 "cells": [
  {
   "cell_type": "markdown",
   "metadata": {},
   "source": [
    "## Amazon Review Sentiment Analysis\n",
    "\n",
    "This project creates a model used to predict whether an Amazon review is helpful based on the words in the review."
   ]
  },
  {
   "cell_type": "markdown",
   "metadata": {},
   "source": [
    "### Methods/Libraries Used\n",
    "\n",
    "* gzip to extract data from .gz Amazon file\n",
    "* Pandas to see/transform the data\n",
    "* NLTK to remove stopwords from reviews\n",
    "* Scikit-learn's CountVectorizer to create a bag of words model used for the decision trees\n",
    "* Scikit-learn's RandomForestClassifier to create the prediction model"
   ]
  },
  {
   "cell_type": "code",
   "execution_count": 2,
   "metadata": {
    "collapsed": false
   },
   "outputs": [],
   "source": [
    "import pandas as pd\n",
    "%matplotlib inline\n",
    "import matplotlib.pyplot as plt\n",
    "import gzip\n",
    "import re\n",
    "import nltk\n",
    "import numpy as np\n",
    "from nltk.corpus import stopwords\n",
    "from sklearn.feature_extraction.text import CountVectorizer\n",
    "pd.options.mode.chained_assignment = None  # default='warn'"
   ]
  },
  {
   "cell_type": "markdown",
   "metadata": {},
   "source": [
    "### 1. Read in the data into a dataframe\n",
    "Note: Data is located here http://jmcauley.ucsd.edu/data/amazon/\n",
    "\n",
    "Use gzip and pandas to get a dataframe of the data."
   ]
  },
  {
   "cell_type": "code",
   "execution_count": 3,
   "metadata": {
    "collapsed": true
   },
   "outputs": [],
   "source": [
    "#Taken from Julian McAuley: http://jmcauley.ucsd.edu/data/amazon/\n",
    "def parse(path):\n",
    "  g = gzip.open(path, 'rb')\n",
    "  for l in g:\n",
    "    yield eval(l)\n",
    "\n",
    "def getDF(path):\n",
    "  i = 0\n",
    "  df = {}\n",
    "  for d in parse(path):\n",
    "    df[i] = d\n",
    "    i += 1\n",
    "  return pd.DataFrame.from_dict(df, orient='index')\n",
    "\n",
    "df = getDF('health_and_personal.json.gz')"
   ]
  },
  {
   "cell_type": "code",
   "execution_count": 4,
   "metadata": {
    "collapsed": false
   },
   "outputs": [
    {
     "name": "stdout",
     "output_type": "stream",
     "text": [
      "(346355, 9)\n"
     ]
    },
    {
     "data": {
      "text/html": [
       "<div>\n",
       "<table border=\"1\" class=\"dataframe\">\n",
       "  <thead>\n",
       "    <tr style=\"text-align: right;\">\n",
       "      <th></th>\n",
       "      <th>reviewerID</th>\n",
       "      <th>asin</th>\n",
       "      <th>reviewerName</th>\n",
       "      <th>helpful</th>\n",
       "      <th>unixReviewTime</th>\n",
       "      <th>reviewText</th>\n",
       "      <th>overall</th>\n",
       "      <th>reviewTime</th>\n",
       "      <th>summary</th>\n",
       "    </tr>\n",
       "  </thead>\n",
       "  <tbody>\n",
       "    <tr>\n",
       "      <th>0</th>\n",
       "      <td>ALC5GH8CAMAI7</td>\n",
       "      <td>159985130X</td>\n",
       "      <td>AnnN</td>\n",
       "      <td>[1, 1]</td>\n",
       "      <td>1294185600</td>\n",
       "      <td>This is a great little gadget to have around. ...</td>\n",
       "      <td>5</td>\n",
       "      <td>01 5, 2011</td>\n",
       "      <td>Handy little gadget</td>\n",
       "    </tr>\n",
       "    <tr>\n",
       "      <th>1</th>\n",
       "      <td>AHKSURW85PJUE</td>\n",
       "      <td>159985130X</td>\n",
       "      <td>AZ buyer \"AZ buyer\"</td>\n",
       "      <td>[1, 1]</td>\n",
       "      <td>1329523200</td>\n",
       "      <td>I would recommend this for a travel magnifier ...</td>\n",
       "      <td>4</td>\n",
       "      <td>02 18, 2012</td>\n",
       "      <td>Small &amp; may need to encourage battery</td>\n",
       "    </tr>\n",
       "    <tr>\n",
       "      <th>2</th>\n",
       "      <td>A38RMU1Y5TDP9</td>\n",
       "      <td>159985130X</td>\n",
       "      <td>Bob Tobias \"Robert Tobias\"</td>\n",
       "      <td>[75, 77]</td>\n",
       "      <td>1275955200</td>\n",
       "      <td>What I liked was the quality of the lens and t...</td>\n",
       "      <td>4</td>\n",
       "      <td>06 8, 2010</td>\n",
       "      <td>Very good but not great</td>\n",
       "    </tr>\n",
       "    <tr>\n",
       "      <th>3</th>\n",
       "      <td>A1XZUG7DFXXOS4</td>\n",
       "      <td>159985130X</td>\n",
       "      <td>Cat lover</td>\n",
       "      <td>[56, 60]</td>\n",
       "      <td>1202428800</td>\n",
       "      <td>Love the Great point light pocket magnifier!  ...</td>\n",
       "      <td>4</td>\n",
       "      <td>02 8, 2008</td>\n",
       "      <td>great addition to your purse</td>\n",
       "    </tr>\n",
       "    <tr>\n",
       "      <th>4</th>\n",
       "      <td>A1MS3M7M7AM13X</td>\n",
       "      <td>159985130X</td>\n",
       "      <td>Cricketoes</td>\n",
       "      <td>[1, 1]</td>\n",
       "      <td>1313452800</td>\n",
       "      <td>This is very nice. You pull out on the magnifi...</td>\n",
       "      <td>5</td>\n",
       "      <td>08 16, 2011</td>\n",
       "      <td>Very nice and convenient.</td>\n",
       "    </tr>\n",
       "  </tbody>\n",
       "</table>\n",
       "</div>"
      ],
      "text/plain": [
       "       reviewerID        asin                reviewerName   helpful  \\\n",
       "0   ALC5GH8CAMAI7  159985130X                        AnnN    [1, 1]   \n",
       "1   AHKSURW85PJUE  159985130X         AZ buyer \"AZ buyer\"    [1, 1]   \n",
       "2   A38RMU1Y5TDP9  159985130X  Bob Tobias \"Robert Tobias\"  [75, 77]   \n",
       "3  A1XZUG7DFXXOS4  159985130X                   Cat lover  [56, 60]   \n",
       "4  A1MS3M7M7AM13X  159985130X                  Cricketoes    [1, 1]   \n",
       "\n",
       "   unixReviewTime                                         reviewText  overall  \\\n",
       "0      1294185600  This is a great little gadget to have around. ...        5   \n",
       "1      1329523200  I would recommend this for a travel magnifier ...        4   \n",
       "2      1275955200  What I liked was the quality of the lens and t...        4   \n",
       "3      1202428800  Love the Great point light pocket magnifier!  ...        4   \n",
       "4      1313452800  This is very nice. You pull out on the magnifi...        5   \n",
       "\n",
       "    reviewTime                                summary  \n",
       "0   01 5, 2011                    Handy little gadget  \n",
       "1  02 18, 2012  Small & may need to encourage battery  \n",
       "2   06 8, 2010                Very good but not great  \n",
       "3   02 8, 2008           great addition to your purse  \n",
       "4  08 16, 2011              Very nice and convenient.  "
      ]
     },
     "execution_count": 4,
     "metadata": {},
     "output_type": "execute_result"
    }
   ],
   "source": [
    "print df.shape\n",
    "df.head()"
   ]
  },
  {
   "cell_type": "markdown",
   "metadata": {},
   "source": [
    "### 2. Create missing columns\n",
    "In order to determine if a review is helpful, the ratio of the helpful to unhelpful counts for each review needs to be calculated. That is done by dividing helpful votes/unhelpful votes, but that data is stored in one column, so new columns needs to be created from the exisiting 'helpful' column. A simple for loop and lists are used to do so."
   ]
  },
  {
   "cell_type": "code",
   "execution_count": 5,
   "metadata": {
    "collapsed": false
   },
   "outputs": [
    {
     "data": {
      "text/html": [
       "<div>\n",
       "<table border=\"1\" class=\"dataframe\">\n",
       "  <thead>\n",
       "    <tr style=\"text-align: right;\">\n",
       "      <th></th>\n",
       "      <th>reviewerID</th>\n",
       "      <th>asin</th>\n",
       "      <th>reviewerName</th>\n",
       "      <th>helpful</th>\n",
       "      <th>unixReviewTime</th>\n",
       "      <th>reviewText</th>\n",
       "      <th>overall</th>\n",
       "      <th>reviewTime</th>\n",
       "      <th>summary</th>\n",
       "      <th>helpUp</th>\n",
       "      <th>helpDown</th>\n",
       "      <th>hRatio</th>\n",
       "    </tr>\n",
       "  </thead>\n",
       "  <tbody>\n",
       "    <tr>\n",
       "      <th>0</th>\n",
       "      <td>ALC5GH8CAMAI7</td>\n",
       "      <td>159985130X</td>\n",
       "      <td>AnnN</td>\n",
       "      <td>[1, 1]</td>\n",
       "      <td>1294185600</td>\n",
       "      <td>This is a great little gadget to have around. ...</td>\n",
       "      <td>5</td>\n",
       "      <td>01 5, 2011</td>\n",
       "      <td>Handy little gadget</td>\n",
       "      <td>1</td>\n",
       "      <td>1</td>\n",
       "      <td>1.000000</td>\n",
       "    </tr>\n",
       "    <tr>\n",
       "      <th>1</th>\n",
       "      <td>AHKSURW85PJUE</td>\n",
       "      <td>159985130X</td>\n",
       "      <td>AZ buyer \"AZ buyer\"</td>\n",
       "      <td>[1, 1]</td>\n",
       "      <td>1329523200</td>\n",
       "      <td>I would recommend this for a travel magnifier ...</td>\n",
       "      <td>4</td>\n",
       "      <td>02 18, 2012</td>\n",
       "      <td>Small &amp; may need to encourage battery</td>\n",
       "      <td>1</td>\n",
       "      <td>1</td>\n",
       "      <td>1.000000</td>\n",
       "    </tr>\n",
       "    <tr>\n",
       "      <th>2</th>\n",
       "      <td>A38RMU1Y5TDP9</td>\n",
       "      <td>159985130X</td>\n",
       "      <td>Bob Tobias \"Robert Tobias\"</td>\n",
       "      <td>[75, 77]</td>\n",
       "      <td>1275955200</td>\n",
       "      <td>What I liked was the quality of the lens and t...</td>\n",
       "      <td>4</td>\n",
       "      <td>06 8, 2010</td>\n",
       "      <td>Very good but not great</td>\n",
       "      <td>75</td>\n",
       "      <td>77</td>\n",
       "      <td>0.974026</td>\n",
       "    </tr>\n",
       "    <tr>\n",
       "      <th>3</th>\n",
       "      <td>A1XZUG7DFXXOS4</td>\n",
       "      <td>159985130X</td>\n",
       "      <td>Cat lover</td>\n",
       "      <td>[56, 60]</td>\n",
       "      <td>1202428800</td>\n",
       "      <td>Love the Great point light pocket magnifier!  ...</td>\n",
       "      <td>4</td>\n",
       "      <td>02 8, 2008</td>\n",
       "      <td>great addition to your purse</td>\n",
       "      <td>56</td>\n",
       "      <td>60</td>\n",
       "      <td>0.933333</td>\n",
       "    </tr>\n",
       "    <tr>\n",
       "      <th>4</th>\n",
       "      <td>A1MS3M7M7AM13X</td>\n",
       "      <td>159985130X</td>\n",
       "      <td>Cricketoes</td>\n",
       "      <td>[1, 1]</td>\n",
       "      <td>1313452800</td>\n",
       "      <td>This is very nice. You pull out on the magnifi...</td>\n",
       "      <td>5</td>\n",
       "      <td>08 16, 2011</td>\n",
       "      <td>Very nice and convenient.</td>\n",
       "      <td>1</td>\n",
       "      <td>1</td>\n",
       "      <td>1.000000</td>\n",
       "    </tr>\n",
       "  </tbody>\n",
       "</table>\n",
       "</div>"
      ],
      "text/plain": [
       "       reviewerID        asin                reviewerName   helpful  \\\n",
       "0   ALC5GH8CAMAI7  159985130X                        AnnN    [1, 1]   \n",
       "1   AHKSURW85PJUE  159985130X         AZ buyer \"AZ buyer\"    [1, 1]   \n",
       "2   A38RMU1Y5TDP9  159985130X  Bob Tobias \"Robert Tobias\"  [75, 77]   \n",
       "3  A1XZUG7DFXXOS4  159985130X                   Cat lover  [56, 60]   \n",
       "4  A1MS3M7M7AM13X  159985130X                  Cricketoes    [1, 1]   \n",
       "\n",
       "   unixReviewTime                                         reviewText  overall  \\\n",
       "0      1294185600  This is a great little gadget to have around. ...        5   \n",
       "1      1329523200  I would recommend this for a travel magnifier ...        4   \n",
       "2      1275955200  What I liked was the quality of the lens and t...        4   \n",
       "3      1202428800  Love the Great point light pocket magnifier!  ...        4   \n",
       "4      1313452800  This is very nice. You pull out on the magnifi...        5   \n",
       "\n",
       "    reviewTime                                summary  helpUp  helpDown  \\\n",
       "0   01 5, 2011                    Handy little gadget       1         1   \n",
       "1  02 18, 2012  Small & may need to encourage battery       1         1   \n",
       "2   06 8, 2010                Very good but not great      75        77   \n",
       "3   02 8, 2008           great addition to your purse      56        60   \n",
       "4  08 16, 2011              Very nice and convenient.       1         1   \n",
       "\n",
       "     hRatio  \n",
       "0  1.000000  \n",
       "1  1.000000  \n",
       "2  0.974026  \n",
       "3  0.933333  \n",
       "4  1.000000  "
      ]
     },
     "execution_count": 5,
     "metadata": {},
     "output_type": "execute_result"
    }
   ],
   "source": [
    "#We need to have some sort of label in order to figure out if a review is helpful or not helpful, so we'll need to define an\n",
    "#arbitrary ratio + \n",
    "a = df['helpful'][:]\n",
    "helpful = []\n",
    "notHelpful = []\n",
    "for i in a:\n",
    "    helpful.append(i[0])\n",
    "    notHelpful.append(i[1])\n",
    "df['helpUp'] = helpful\n",
    "df['helpDown'] = notHelpful\n",
    "df['hRatio'] = df.helpUp/df.helpDown\n",
    "df.head()"
   ]
  },
  {
   "cell_type": "code",
   "execution_count": 11,
   "metadata": {
    "collapsed": false
   },
   "outputs": [
    {
     "data": {
      "text/plain": [
       "185557"
      ]
     },
     "execution_count": 11,
     "metadata": {},
     "output_type": "execute_result"
    }
   ],
   "source": [
    "df['helpUp'][df.helpUp == 0].count()\n",
    "df['helpUp'][df.helpDown == 0].count()"
   ]
  },
  {
   "cell_type": "markdown",
   "metadata": {},
   "source": [
    "### 3. Subset the data\n",
    "Determining what constitutes a 'helpful' review is tough, and if we're going off ratios reviews where 1 out of 1 person found it helpful wil lbe considered very helpful even though it might not be. I arbitrarily decided that a review is more credible if at least 3 people voted it to be helpful. I then subsetted the dataframe for those reviews. \n",
    "\n",
    "After that, I created four classifiers for the data and assigned the column to the dataframe:\n",
    "* 0% - 25% is considered useless\n",
    "* 25% - 50% is considered unhelpful\n",
    "* 50% - 75% is considered moderarely helpful\n",
    "* 75% - 100% is considered helpful\n",
    "\n",
    "Lastly, I subsetted the first 10000 rows as the training dataset."
   ]
  },
  {
   "cell_type": "code",
   "execution_count": 7,
   "metadata": {
    "collapsed": false
   },
   "outputs": [],
   "source": [
    "#Remove all 0 - 2 reviews\n",
    "df2 = df.loc[df.helpUp > 2]\n",
    "df2 = df2.reset_index(drop=True)\n",
    "#0-25% = useless, 25-50% is unhelpful, 50-75% is moderate,  75-100% is helpful\n",
    "senti = pd.Series(np.random.randn(len(df2.asin)))\n",
    "df2 = df2.assign(sentiment = senti.values)\n",
    "df2.loc[:,'sentiment'][df2['hRatio']<0.25] = 'useless'\n",
    "df2.loc[:,'sentiment'][(df2['hRatio']>0.25) & (df2['hRatio']<0.50)] = 'unhelpful'\n",
    "df2.loc[:,'sentiment'][(df2['hRatio']>0.50) & (df2['hRatio']<0.75)] = 'moderate'\n",
    "df2.loc[:,'sentiment'][(df2['hRatio']>0.75) & (df2['hRatio']<= 1)] = 'helpful'\n",
    "train = df2[0:10000]"
   ]
  },
  {
   "cell_type": "markdown",
   "metadata": {},
   "source": [
    "### 4. Clean the reviews \n",
    "Clean the reviews so they can be used for a bag of words model."
   ]
  },
  {
   "cell_type": "code",
   "execution_count": 10,
   "metadata": {
    "collapsed": false,
    "scrolled": false
   },
   "outputs": [
    {
     "name": "stdout",
     "output_type": "stream",
     "text": [
      "liked quality lens built light lens discernable distortion anywhere magnified everything evenly without ripples distortion seen low cost magnifiers light nice touch easy use want pull lens bit focused close center look provides nice even coverage like brightness actually dimmness light focused leds lots brighter know seen also light focuses center field view lens close focused properly bottom line good value magnifier could made great better quality control btw feel honest effective reviews take place first hand experiences lacking online shopping always appreciated help received reviewers work hard return favor best hope found review helpful anything thought lacking unclear leave comment fix\n",
      "Cleaning and parsing the training set movie reviews...\n",
      "\n",
      "Review 1000 of 10000\n",
      "\n",
      "Review 2000 of 10000\n",
      "\n",
      "Review 3000 of 10000\n",
      "\n",
      "Review 4000 of 10000\n",
      "\n",
      "Review 5000 of 10000\n",
      "\n",
      "Review 6000 of 10000\n",
      "\n",
      "Review 7000 of 10000\n",
      "\n",
      "Review 8000 of 10000\n",
      "\n",
      "Review 9000 of 10000\n",
      "\n",
      "Review 10000 of 10000\n",
      "\n"
     ]
    }
   ],
   "source": [
    "#Function to clean a review. \n",
    "#1. Use regex to remove all non letters\n",
    "#2. Lowercase all words and split the review into words\n",
    "#3. remove all \"stopwords\" from the review\n",
    "#4. Join back the final words into the cleaned review\n",
    "samp = train['reviewText'][0]\n",
    "def to_words(review):\n",
    "    letters = re.sub(\"[^a-zA-Z]\", \" \", review)\n",
    "    words = letters.lower().split()\n",
    "    good_words = [w for w in words if not w in stopwords.words(\"english\")]\n",
    "    return( \" \".join( good_words ))   \n",
    "\n",
    "clean_review = to_words( samp )\n",
    "print clean_review\n",
    "\n",
    "#Clean all the reviews and append the reviews to a list.\n",
    "print \"\\n Cleaning and parsing the training set movie reviews...\\n\"\n",
    "train_rvws = []\n",
    "num_rvws = train['reviewText'].size\n",
    "for i in xrange( 0, num_rvws ):\n",
    "    if( (i+1)%1000 == 0 ):\n",
    "        print \"Review %d of %d\\n\" % ( i+1, num_rvws )                                                                    \n",
    "    train_rvws.append( to_words( train[\"reviewText\"][i] ))\n"
   ]
  },
  {
   "cell_type": "markdown",
   "metadata": {},
   "source": [
    "### 5. Train the model\n",
    "In order to train the model, we will give the model certain words (features) to look for to classify the review. These words are chosen from the cleaned reviews.\n",
    "\n",
    "CountVectorizer is an object by scikit-learn used to create the features from text, and you can see the attributes can be modified to fit certain needs. fit_transform() trains the model and creates vectors from the reviews. We convert the vectors to numpy arrays for faster processing.\n",
    "\n",
    "Finally use RandomForestClassifier to create the model in an object called forest."
   ]
  },
  {
   "cell_type": "code",
   "execution_count": 11,
   "metadata": {
    "collapsed": false
   },
   "outputs": [],
   "source": [
    "#Get the features to train the decision tree using CountVectorizer\n",
    "vectorizer = CountVectorizer(analyzer = \"word\",   \\\n",
    "                             tokenizer = None,    \\\n",
    "                             preprocessor = None, \\\n",
    "                             stop_words = None,   \\\n",
    "                             max_features = 1000) \n",
    "train_data_features = vectorizer.fit_transform(train_rvws)\n",
    "train_data_features = train_data_features.toarray()"
   ]
  },
  {
   "cell_type": "code",
   "execution_count": null,
   "metadata": {
    "collapsed": true
   },
   "outputs": [],
   "source": [
    "#See the bag of words and features\n",
    "vocab = vectorizer.get_feature_names()\n",
    "#print vocab\n",
    "\n",
    "# Sum up the counts of each vocabulary word\n",
    "dist = np.sum(train_data_features, axis=0)\n",
    "\n",
    "# For each, print the vocabulary word and the number of times it appears in the training set\n",
    "# Uncomment if you want to print\n",
    "#for tag, count in zip(vocab, dist):\n",
    "#    print count, tag"
   ]
  },
  {
   "cell_type": "code",
   "execution_count": 13,
   "metadata": {
    "collapsed": false
   },
   "outputs": [
    {
     "name": "stdout",
     "output_type": "stream",
     "text": [
      "Training the random forest...\n"
     ]
    }
   ],
   "source": [
    "print \"Training the random forest...\"\n",
    "from sklearn.ensemble import RandomForestClassifier\n",
    "\n",
    "# Initialize a Random Forest classifier with 100 trees\n",
    "forest = RandomForestClassifier(n_estimators = 100) \n",
    "\n",
    "forest = forest.fit( train_data_features, train[\"sentiment\"] )"
   ]
  },
  {
   "cell_type": "markdown",
   "metadata": {},
   "source": [
    "### Repeat on the test dataset\n",
    "Here we repeat all the same steps on the test dataset and use the forest model on the features gotten from the test data. The ouput is then converted into a dictionary with the ASIN and results."
   ]
  },
  {
   "cell_type": "code",
   "execution_count": 20,
   "metadata": {
    "collapsed": false
   },
   "outputs": [
    {
     "name": "stdout",
     "output_type": "stream",
     "text": [
      "10000\n",
      "Review 1000 of 10000\n",
      "\n",
      "Review 2000 of 10000\n",
      "\n",
      "Review 3000 of 10000\n",
      "\n",
      "Review 4000 of 10000\n",
      "\n",
      "Review 5000 of 10000\n",
      "\n",
      "Review 6000 of 10000\n",
      "\n",
      "Review 7000 of 10000\n",
      "\n",
      "Review 8000 of 10000\n",
      "\n",
      "Review 9000 of 10000\n",
      "\n",
      "Review 10000 of 10000\n",
      "\n"
     ]
    }
   ],
   "source": [
    "test = df2[25000:35000]\n",
    "test.index = range(10000)\n",
    "test_rvws = []\n",
    "num_rvws = test['reviewText'].size\n",
    "for i in xrange(0, num_rvws):\n",
    "    if( (i+1)%1000 == 0 ):\n",
    "        print \"Review %d of %d\\n\" % ( i+1, num_rvws )                                                                    \n",
    "    test_rvws.append( to_words( test[\"reviewText\"][i] ))\n",
    "\n",
    "test_data_features = vectorizer.transform(test_rvws)\n",
    "test_data_features = test_data_features.toarray()\n",
    "result = forest.predict(test_data_features)\n",
    "output = pd.DataFrame( data={\"id\":test[\"asin\"], \"sentiment\":result} )"
   ]
  },
  {
   "cell_type": "markdown",
   "metadata": {},
   "source": [
    "### 6. Test the accuracy\n",
    "See how the results of the test line up with the results of the model using a for loop."
   ]
  },
  {
   "cell_type": "code",
   "execution_count": 12,
   "metadata": {
    "collapsed": false
   },
   "outputs": [
    {
     "ename": "NameError",
     "evalue": "name 'output' is not defined",
     "output_type": "error",
     "traceback": [
      "\u001b[1;31m---------------------------------------------------------------------------\u001b[0m",
      "\u001b[1;31mNameError\u001b[0m                                 Traceback (most recent call last)",
      "\u001b[1;32m<ipython-input-12-a5df8aec5cd8>\u001b[0m in \u001b[0;36m<module>\u001b[1;34m()\u001b[0m\n\u001b[0;32m      1\u001b[0m \u001b[1;31m#confirm ASIN line up\u001b[0m\u001b[1;33m\u001b[0m\u001b[1;33m\u001b[0m\u001b[0m\n\u001b[1;32m----> 2\u001b[1;33m \u001b[1;32mprint\u001b[0m \u001b[0moutput\u001b[0m\u001b[1;33m.\u001b[0m\u001b[0mhead\u001b[0m\u001b[1;33m(\u001b[0m\u001b[1;33m)\u001b[0m\u001b[1;33m\u001b[0m\u001b[0m\n\u001b[0m\u001b[0;32m      3\u001b[0m \u001b[1;32mprint\u001b[0m \u001b[0mtest\u001b[0m\u001b[1;33m[\u001b[0m\u001b[1;33m[\u001b[0m\u001b[1;34m'asin'\u001b[0m\u001b[1;33m,\u001b[0m\u001b[1;34m'sentiment'\u001b[0m\u001b[1;33m]\u001b[0m\u001b[1;33m]\u001b[0m\u001b[1;33m.\u001b[0m\u001b[0mhead\u001b[0m\u001b[1;33m(\u001b[0m\u001b[1;33m)\u001b[0m\u001b[1;33m\u001b[0m\u001b[0m\n\u001b[0;32m      4\u001b[0m \u001b[0mcount\u001b[0m \u001b[1;33m=\u001b[0m \u001b[1;36m0.0\u001b[0m\u001b[1;33m\u001b[0m\u001b[0m\n\u001b[0;32m      5\u001b[0m \u001b[1;33m\u001b[0m\u001b[0m\n",
      "\u001b[1;31mNameError\u001b[0m: name 'output' is not defined"
     ]
    }
   ],
   "source": [
    "#confirm ASIN line up\n",
    "print output.head()\n",
    "print test[['asin','sentiment']].head()\n",
    "count = 0.0\n",
    "\n",
    "#loop through each row in the sentiment column and compare if they are equal, if so, add + 1 to the count\n",
    "for i in xrange(0,len(output)):\n",
    "    if test['sentiment'][i] == output['sentiment'][i]:\n",
    "        count += 1\n",
    "acc = 100*(count/len(output))\n",
    "print \"Model is {}% accurate\".format(acc)"
   ]
  }
 ],
 "metadata": {
  "kernelspec": {
   "display_name": "Python 2",
   "language": "python",
   "name": "python2"
  },
  "language_info": {
   "codemirror_mode": {
    "name": "ipython",
    "version": 2
   },
   "file_extension": ".py",
   "mimetype": "text/x-python",
   "name": "python",
   "nbconvert_exporter": "python",
   "pygments_lexer": "ipython2",
   "version": "2.7.11"
  }
 },
 "nbformat": 4,
 "nbformat_minor": 0
}
